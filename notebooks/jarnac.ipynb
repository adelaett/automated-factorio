{
 "cells": [
  {
   "cell_type": "code",
   "execution_count": 1,
   "metadata": {},
   "outputs": [],
   "source": [
    "from collections import defaultdict\n",
    "\n",
    "dico = defaultdict(list)\n",
    "\n",
    "with open(\"data/liste_francais.txt\") as f:\n",
    "    words = [\n",
    "        w.lower()\n",
    "            .replace(\"é\", \"e\")\n",
    "            .replace(\"è\", \"e\")\n",
    "            .replace(\"ê\", \"e\")\n",
    "            .replace(\"ë\", \"e\")\n",
    "            .replace(\"à\", \"a\")\n",
    "            .replace(\"â\", \"a\")\n",
    "            .replace(\"î\", \"i\")\n",
    "            .replace(\"ï\", \"i\")\n",
    "            .replace(\"ô\", \"o\")\n",
    "            .replace(\"ö\", \"o\")\n",
    "            .replace(\"ù\", \"u\")\n",
    "        for w in f.read().split()]\n",
    "\n",
    "for w in words:\n",
    "    dico[\"\".join(sorted(w))].append(w)\n",
    "\n",
    "dico = dict(dico)\n"
   ]
  },
  {
   "cell_type": "code",
   "execution_count": null,
   "metadata": {},
   "outputs": [],
   "source": []
  },
  {
   "cell_type": "code",
   "execution_count": 3,
   "metadata": {},
   "outputs": [],
   "source": [
    "import itertools\n",
    "\n",
    "words = [\"\", \"alunit\", \"blondi\", \"boxa\"]\n",
    "letters = \"fr\"\n",
    "\n",
    "# words = [\"\", \"ducs\", \"cremiez\"]\n",
    "# letters = \"na\"\n",
    "\n",
    "\n",
    "def subsets(it):\n",
    "    it = list(it)\n",
    "    return itertools.chain(*(itertools.combinations(it, i) for i in range(1, len(it)+1)))\n",
    "\n",
    "for i, w in enumerate(words):\n",
    "    for ls in subsets(letters):\n",
    "        ls = \"\".join(ls)\n",
    "        candidate = \"\".join(sorted(w+ls))\n",
    "        if candidate in dico and 3 <= len(candidate):\n",
    "            print(dico[candidate])\n"
   ]
  },
  {
   "cell_type": "code",
   "execution_count": 98,
   "metadata": {},
   "outputs": [
    {
     "name": "stdout",
     "output_type": "stream",
     "text": [
      "          -clo      -> col         9\n",
      "          -cor      -> roc         9\n",
      "          -cor      -> cor         9\n",
      "decus     -o        -> douces     11\n",
      "incarnat  -o        -> connaitra  17\n"
     ]
    }
   ],
   "source": [
    "import itertools\n",
    "from collections import Counter\n",
    "\n",
    "words = [\"\",  \"blondiras\", \"boxais\", \"gobais\", \"deconnera\", \"poudrerie\"]\n",
    "letters = \"h\"\n",
    "\n",
    "words = [\"\", \"alunait\", \"decus\", \"encremiez\", \"incarnat\", \"lunette\", \"amputee\", \"cil\"]\n",
    "letters = \"rcol\"\n",
    "\n",
    "def subsets(it):\n",
    "    it = list(it)\n",
    "    return itertools.chain(*(itertools.combinations(it, i) for i in range(1, len(it)+1)))\n",
    "\n",
    "for i, w in enumerate(words):\n",
    "    possibilités = set()\n",
    "    for ls in subsets(letters):\n",
    "        ls = \"\".join(ls)\n",
    "        candidate = \"\".join(sorted(w+ls))\n",
    "        if candidate in dico and 3 <= len(candidate):\n",
    "            possibilités.update(dico[candidate])\n",
    "    \n",
    "    for p in sorted(possibilités, key=lambda p: -len(p)):\n",
    "        score_delta = (len(p) ** 2 - len(w)**2)\n",
    "        before = w\n",
    "        after = p\n",
    "        diff = \"\".join(sorted([k * v for k, v in (Counter(p)-Counter(w)).items()]))\n",
    "\n",
    "        print(f\"{before:9} -{diff:9}-> {after:9} {score_delta:3}\")\n"
   ]
  }
 ],
 "metadata": {
  "kernelspec": {
   "display_name": "Python 3",
   "language": "python",
   "name": "python3"
  },
  "language_info": {
   "codemirror_mode": {
    "name": "ipython",
    "version": 3
   },
   "file_extension": ".py",
   "mimetype": "text/x-python",
   "name": "python",
   "nbconvert_exporter": "python",
   "pygments_lexer": "ipython3",
   "version": "3.10.10"
  },
  "orig_nbformat": 4
 },
 "nbformat": 4,
 "nbformat_minor": 2
}
