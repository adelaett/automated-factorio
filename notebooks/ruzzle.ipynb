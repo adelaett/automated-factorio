{
 "cells": [
  {
   "cell_type": "markdown",
   "metadata": {},
   "source": [
    "# Ruzzle solver\n",
    "\n"
   ]
  },
  {
   "cell_type": "code",
   "execution_count": 1,
   "metadata": {},
   "outputs": [],
   "source": [
    "mappy = [\"azer\", \"hjke\", \"ruif\", \"leia\"]\n",
    "dico = [\"ahrl\", \"zjue\"]\n",
    "\n",
    "\n"
   ]
  },
  {
   "cell_type": "code",
   "execution_count": 2,
   "metadata": {},
   "outputs": [],
   "source": [
    "import dataclasses\n",
    "\n"
   ]
  },
  {
   "cell_type": "code",
   "execution_count": 3,
   "metadata": {},
   "outputs": [
    {
     "ename": "SyntaxError",
     "evalue": "invalid syntax (2575539165.py, line 42)",
     "output_type": "error",
     "traceback": [
      "\u001b[0;36m  Input \u001b[0;32mIn [3]\u001b[0;36m\u001b[0m\n\u001b[0;31m    for x in starts =\u001b[0m\n\u001b[0m                    ^\u001b[0m\n\u001b[0;31mSyntaxError\u001b[0m\u001b[0;31m:\u001b[0m invalid syntax\n"
     ]
    }
   ],
   "source": [
    "class Solver():\n",
    "  def __init__(self, mappy, dico):\n",
    "    self.mappy = mappy\n",
    "    self.dico = dico\n",
    "\n",
    "    p, q = mappy.shape\n",
    "\n",
    "    self.p = p\n",
    "    self.q = q\n",
    "\n",
    "  def compute_prefixes(self):\n",
    "    prefixes = set()\n",
    "\n",
    "    for w in self.dico:\n",
    "      for i in range(1, len(w)):\n",
    "        prefixes.add(w[:i])\n",
    "\n",
    "    return frozenset(prefixes)\n",
    "\n",
    "  def adjacents(self, i, j):\n",
    "    is_ = []\n",
    "    if i > 0:\n",
    "      is_.append(i-1)\n",
    "    is_.append(i)\n",
    "    if i < self.p-1:\n",
    "      is_.append(i+1)\n",
    "\n",
    "    js = []\n",
    "    if j > 0:\n",
    "      js.append(j-1)\n",
    "    js.append(j)\n",
    "    if j < self.p-1:\n",
    "      js.append(j+1)\n",
    "\n",
    "    return [(i, j) for i in is_ for j in js if i == j == 0]\n",
    "\n",
    "  def iterate_shapes(self, mappy, dico):\n",
    "    prefixes = self.compute_prefixes(dico)\n",
    "    \n",
    "    starts = [[(i, j)] for i in range(self.p) for j in range(self.q)]\n",
    "\n",
    "    for x in starts:\n",
    "      pass\n",
    "    gray = set()\n",
    "    \n",
    "\n"
   ]
  }
 ],
 "metadata": {
  "kernelspec": {
   "display_name": "Python 3.10.8 64-bit",
   "language": "python",
   "name": "python3"
  },
  "language_info": {
   "codemirror_mode": {
    "name": "ipython",
    "version": 3
   },
   "file_extension": ".py",
   "mimetype": "text/x-python",
   "name": "python",
   "nbconvert_exporter": "python",
   "pygments_lexer": "ipython3",
   "version": "3.10.8"
  },
  "orig_nbformat": 4,
  "vscode": {
   "interpreter": {
    "hash": "4db17f31f4763c47c3c8e3bc49c08c6cf6cbf46132062c0430fa9724e5264898"
   }
  }
 },
 "nbformat": 4,
 "nbformat_minor": 2
}
