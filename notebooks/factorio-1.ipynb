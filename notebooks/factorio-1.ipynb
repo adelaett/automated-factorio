{
 "cells": [
  {
   "cell_type": "code",
   "execution_count": 1,
   "id": "25f98bb8-8c8b-43c8-9b1b-d827e9ca53bf",
   "metadata": {},
   "outputs": [],
   "source": [
    "import json"
   ]
  },
  {
   "cell_type": "code",
   "execution_count": 3,
   "id": "7fbbc7ff-36de-46c5-a731-dd4f65d381d3",
   "metadata": {},
   "outputs": [
    {
     "ename": "KeyError",
     "evalue": "'assembling-machine'",
     "output_type": "error",
     "traceback": [
      "\u001b[0;31m---------------------------------------------------------------------------\u001b[0m",
      "\u001b[0;31mKeyError\u001b[0m                                  Traceback (most recent call last)",
      "\u001b[1;32m/home/time/docs/projets/fio/factorio-1.ipynb Cell 2\u001b[0m in \u001b[0;36m<cell line: 11>\u001b[0;34m()\u001b[0m\n\u001b[1;32m      <a href='vscode-notebook-cell:/home/time/docs/projets/fio/factorio-1.ipynb#W1sZmlsZQ%3D%3D?line=7'>8</a>\u001b[0m         \u001b[39mexcept\u001b[39;00m json\u001b[39m.\u001b[39mJSONDecodeError \u001b[39mas\u001b[39;00m e:\n\u001b[1;32m      <a href='vscode-notebook-cell:/home/time/docs/projets/fio/factorio-1.ipynb#W1sZmlsZQ%3D%3D?line=8'>9</a>\u001b[0m             \u001b[39mprint\u001b[39m(fn, e)\n\u001b[0;32m---> <a href='vscode-notebook-cell:/home/time/docs/projets/fio/factorio-1.ipynb#W1sZmlsZQ%3D%3D?line=10'>11</a>\u001b[0m data[\u001b[39m\"\u001b[39m\u001b[39many-machines\u001b[39m\u001b[39m\"\u001b[39m] \u001b[39m=\u001b[39m {\u001b[39m*\u001b[39m\u001b[39m*\u001b[39mdata[\u001b[39m\"\u001b[39m\u001b[39massembling-machine\u001b[39m\u001b[39m\"\u001b[39m], \u001b[39m*\u001b[39m\u001b[39m*\u001b[39mdata[\u001b[39m\"\u001b[39m\u001b[39mfurnace\u001b[39m\u001b[39m\"\u001b[39m]}\n\u001b[1;32m     <a href='vscode-notebook-cell:/home/time/docs/projets/fio/factorio-1.ipynb#W1sZmlsZQ%3D%3D?line=12'>13</a>\u001b[0m data[\u001b[39m\"\u001b[39m\u001b[39many-items\u001b[39m\u001b[39m\"\u001b[39m] \u001b[39m=\u001b[39m {\u001b[39m*\u001b[39m\u001b[39m*\u001b[39mdata[\u001b[39m\"\u001b[39m\u001b[39mitem\u001b[39m\u001b[39m\"\u001b[39m], \u001b[39m*\u001b[39m\u001b[39m*\u001b[39mdata[\u001b[39m\"\u001b[39m\u001b[39mfluid\u001b[39m\u001b[39m\"\u001b[39m]}\n\u001b[1;32m     <a href='vscode-notebook-cell:/home/time/docs/projets/fio/factorio-1.ipynb#W1sZmlsZQ%3D%3D?line=14'>15</a>\u001b[0m \u001b[39mlist\u001b[39m(data\u001b[39m.\u001b[39mkeys())\n",
      "\u001b[0;31mKeyError\u001b[0m: 'assembling-machine'"
     ]
    }
   ],
   "source": [
    "from pathlib import Path\n",
    "\n",
    "data = {}\n",
    "for fn in Path(\"d\").glob(\"*.json\"):\n",
    "    with open(fn) as f:\n",
    "        try:\n",
    "            data[fn.stem] = json.load(f)\n",
    "        except json.JSONDecodeError as e:\n",
    "            print(fn, e)\n",
    "            \n",
    "data[\"any-machines\"] = {**data[\"assembling-machine\"], **data[\"furnace\"]}\n",
    "\n",
    "data[\"any-items\"] = {**data[\"item\"], **data[\"fluid\"]}\n",
    "\n",
    "list(data.keys())"
   ]
  },
  {
   "cell_type": "code",
   "execution_count": 3,
   "id": "fb49b366-3ceb-4f36-a065-b1703c9724eb",
   "metadata": {},
   "outputs": [],
   "source": [
    "from collections import defaultdict\n",
    "\n",
    "\n",
    "\n",
    "def get_values(d):\n",
    "    return {k: v.x for k, v in d.items() if v.x > 0}\n",
    "\n",
    "def solve(model: mip.Model, source, target, stocks, coefs={\"polution\": 1, \"electricity\": 1}):\n",
    "    produced = {i['name']: model.add_var(f\"produced_{i['name']}\", lb=0) for i in data[\"any-items\"].values()}\n",
    "    used = {i['name']: model.add_var(f\"used_{i['name']}\", lb=0) for i in data[\"any-items\"].values()}\n",
    "\n",
    "    electricity = []\n",
    "\n",
    "    polution = []\n",
    "    \n",
    "    machines = {\n",
    "        (\n",
    "            r[\"name\"],\n",
    "            m[\"name\"]\n",
    "        ): model.add_var(f\"machines_{m['name']}_{r['name']}\", lb=0, var_type=mip.INTEGER)\n",
    "        \n",
    "        for r in data[\"recipe\"].values()\n",
    "        for m in data[\"any-machines\"].values()\n",
    "        if r[\"category\"] in m['crafting_categories']\n",
    "    }\n",
    "    \n",
    "    \n",
    "    for i in data[\"any-items\"].values():\n",
    "        model.add_constr(produced[i['name']] - used[i['name']] <= target[i['name']] - source[i['name']], name=f\"equilibrium_{i['name']}\")\n",
    "    \n",
    "    for i in data[\"any-items\"].values():\n",
    "        right_hand_side_product = []\n",
    "        right_hand_side_ingredident = []\n",
    "        for r in data[\"recipe\"].values():\n",
    "            for m in data[\"any-machines\"].values():\n",
    "                \n",
    "                if r[\"category\"] in m['crafting_categories']:\n",
    "                    for p in r['products']:\n",
    "                        if p[\"name\"] == i[\"name\"]:\n",
    "                            right_hand_side_product.append(machines[r[\"name\"], m[\"name\"]] * p['probability'] * p['amount'] * m[\"crafting_speed\"])\n",
    "                    \n",
    "                    for p in r['ingredients']:\n",
    "                        if p[\"name\"] == i[\"name\"]:\n",
    "                            right_hand_side_ingredident.append(machines[r[\"name\"], m[\"name\"]] * p['amount'] * m[\"crafting_speed\"])\n",
    "        \n",
    "        model.add_constr(mip.quicksum(right_hand_side_product) == produced[i['name']])\n",
    "        model.add_constr(mip.quicksum(right_hand_side_ingredident) == used[i['name']])\n",
    "    \n",
    "    \n",
    "    capital = {\n",
    "        m[\"name\"]: model.add_var(f\"nb_machines_{m['name']}\")\n",
    "        for m in data[\"any-machines\"].values()\n",
    "    }\n",
    "    \n",
    "    electricity = mip.quicksum(capital[m['name']] * m[\"energy_usage\"] for m in data[\"any-machines\"].values())\n",
    "    polution = mip.quicksum(capital[m['name']] * m[\"pollution\"] for m in data[\"any-machines\"].values())\n",
    "    \n",
    "    model.objective = electricity * coefs[\"electricity\"] - polution * coefs[\"polution\"]\n",
    "    \n",
    "    for m in data[\"any-machines\"].values():\n",
    "        model.add_constr(capital[m['name']] == mip.quicksum(machines[r['name'], m['name']] for r in data[\"recipe\"].values() if r[\"category\"] in m['crafting_categories']))\n",
    "    \n",
    "    \n",
    "    \n",
    "    model.optimize()\n",
    "    \n",
    "    print(model.status)\n",
    "\n",
    "    \n",
    "    return tuple(list(map(get_values, [produced, used, machines, capital])) + [electricity.x, polution.x])\n"
   ]
  },
  {
   "cell_type": "code",
   "execution_count": 4,
   "id": "787c332f-95f3-4b83-978a-66b97da18ace",
   "metadata": {},
   "outputs": [
    {
     "name": "stdout",
     "output_type": "stream",
     "text": [
      "OptimizationStatus.OPTIMAL\n",
      "crash-site-assembling-machine-2-repaired 50 2\n",
      "electric-furnace 25 1\n",
      "electric-furnace 25 1\n",
      "crash-site-assembling-machine-2-repaired 25 1\n"
     ]
    }
   ],
   "source": [
    "from pprint import pprint\n",
    "_, _, machines, _, _, _ = solve(mip.Model(), defaultdict(lambda: 0, {\"iron-ore\": 50, \"copper-ore\": 50}), defaultdict(lambda: 0, {\"automation-science-pack\": 100}), defaultdict(lambda: float('+inf')))\n",
    "\n",
    "for (r, m), n in machines.items():\n",
    "    r = data[\"recipe\"][r]\n",
    "    m = data[\"any-machines\"][m]\n",
    "    print(m[\"name\"], int(n), len(r[\"ingredients\"]))"
   ]
  },
  {
   "cell_type": "code",
   "execution_count": 5,
   "id": "866a09f7-1db7-4d52-a26b-6f80f108480a",
   "metadata": {},
   "outputs": [
    {
     "name": "stderr",
     "output_type": "stream",
     "text": [
      "INFO:     Started server process [5547]\n",
      "INFO:     Waiting for application startup.\n",
      "INFO:     Application startup complete.\n",
      "INFO:     Uvicorn running on http://127.0.0.1:8000 (Press CTRL+C to quit)\n",
      "INFO:     Shutting down\n",
      "INFO:     Waiting for application shutdown.\n",
      "INFO:     Application shutdown complete.\n",
      "INFO:     Finished server process [5547]\n"
     ]
    }
   ],
   "source": [
    "import pydantic\n",
    "from typing import *\n",
    "from enum import Enum\n",
    "\n",
    "import nest_asyncio\n",
    "import uvicorn\n",
    "\n",
    "\n",
    "\n",
    "# data[\"any-items\"].keys()\n",
    "\n",
    "class Coefs(str, Enum):\n",
    "    polution = \"polution\"\n",
    "    electricity = \"electricity\"\n",
    "\n",
    "class StrEnum(str, Enum):\n",
    "    pass\n",
    "\n",
    "Items = StrEnum(\"Item\", {k.replace(\"-\", \"_\"): k for k, _ in data[\"any-items\"].items()})\n",
    "Machines = StrEnum(\"Machines\", {k.replace(\"-\", \"_\"): k for k, _ in data[\"any-machines\"].items()})\n",
    "\n",
    "\n",
    "import fastapi\n",
    "\n",
    "app = fastapi.FastAPI()\n",
    "\n",
    "@app.post(\"/recipe-optimizer\")\n",
    "async def solve_recipe(source: Dict[Items, float], target: Dict[Items, float], stocks: Dict[Machines, int], coefs: Dict[Coefs, float]):\n",
    "    source = defaultdict(lambda: 0, source)\n",
    "    target = defaultdict(lambda: 0, target)\n",
    "    stocks = defaultdict(lambda: float(\"+inf\"), stocks)\n",
    "    coefs = defaultdict(lambda: 1, coefs)\n",
    "    \n",
    "    _, _, machines, _, _, _ = solve(mip.Model(), source, target, stocks, coefs)\n",
    "    \n",
    "    return machines\n",
    "    \n",
    "\n",
    "\n",
    "\n",
    "nest_asyncio.apply()\n",
    "uvicorn.run(app, port=8000)"
   ]
  },
  {
   "cell_type": "code",
   "execution_count": null,
   "id": "ef5a91ba-3407-4a49-a1a6-215f4ce382d5",
   "metadata": {},
   "outputs": [],
   "source": []
  },
  {
   "cell_type": "code",
   "execution_count": null,
   "id": "eb2053a7-fb75-4559-93bc-48a42bad4ce5",
   "metadata": {},
   "outputs": [],
   "source": []
  },
  {
   "cell_type": "code",
   "execution_count": null,
   "id": "939824ba-2e85-47a0-9394-157397599c26",
   "metadata": {},
   "outputs": [],
   "source": []
  },
  {
   "cell_type": "code",
   "execution_count": null,
   "id": "f4b74713-230d-4cdc-b203-8924a0791b53",
   "metadata": {},
   "outputs": [],
   "source": []
  },
  {
   "cell_type": "code",
   "execution_count": null,
   "id": "f9c03256-8c35-4af9-bbc7-2135d2fcb2f5",
   "metadata": {},
   "outputs": [],
   "source": []
  },
  {
   "cell_type": "code",
   "execution_count": null,
   "id": "682b34c3-3f22-41d9-a3ec-6873658fd048",
   "metadata": {},
   "outputs": [],
   "source": []
  },
  {
   "cell_type": "code",
   "execution_count": null,
   "id": "d1cf0cef-a91e-41e4-89a3-c43ed110bbb3",
   "metadata": {},
   "outputs": [],
   "source": []
  }
 ],
 "metadata": {
  "kernelspec": {
   "display_name": "Python 3.10.6 64-bit",
   "language": "python",
   "name": "python3"
  },
  "language_info": {
   "codemirror_mode": {
    "name": "ipython",
    "version": 3
   },
   "file_extension": ".py",
   "mimetype": "text/x-python",
   "name": "python",
   "nbconvert_exporter": "python",
   "pygments_lexer": "ipython3",
   "version": "3.10.6"
  },
  "vscode": {
   "interpreter": {
    "hash": "ff9b459f69494605561fd2669441906017f0349d89ce1ddbccdd412f78b36463"
   }
  }
 },
 "nbformat": 4,
 "nbformat_minor": 5
}
