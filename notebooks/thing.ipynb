{
 "cells": [
  {
   "cell_type": "code",
   "execution_count": 1,
   "metadata": {},
   "outputs": [
    {
     "data": {
      "text/plain": [
       "Fraction(1, 3)"
      ]
     },
     "execution_count": 1,
     "metadata": {},
     "output_type": "execute_result"
    }
   ],
   "source": [
    "import fio\n",
    "\n",
    "fio.arith.float_to_frac(0.333333333333)"
   ]
  },
  {
   "cell_type": "code",
   "execution_count": 2,
   "metadata": {},
   "outputs": [],
   "source": [
    "import time\n"
   ]
  },
  {
   "cell_type": "code",
   "execution_count": null,
   "metadata": {},
   "outputs": [],
   "source": []
  },
  {
   "cell_type": "code",
   "execution_count": 3,
   "metadata": {},
   "outputs": [
    {
     "data": {
      "text/plain": [
       "'.'"
      ]
     },
     "execution_count": 3,
     "metadata": {},
     "output_type": "execute_result"
    }
   ],
   "source": [
    "import os\n",
    "\n",
    "\n",
    "os.curdir"
   ]
  },
  {
   "cell_type": "code",
   "execution_count": 4,
   "metadata": {},
   "outputs": [
    {
     "ename": "ModuleNotFoundError",
     "evalue": "No module named 'vega_datasets'",
     "output_type": "error",
     "traceback": [
      "\u001b[0;31m---------------------------------------------------------------------------\u001b[0m",
      "\u001b[0;31mModuleNotFoundError\u001b[0m                       Traceback (most recent call last)",
      "\u001b[1;32m/home/time/docs/projets/fio/notebooks/thing.ipynb Cell 5\u001b[0m in \u001b[0;36m<cell line: 2>\u001b[0;34m()\u001b[0m\n\u001b[1;32m      <a href='vscode-notebook-cell:/home/time/docs/projets/fio/notebooks/thing.ipynb#W4sZmlsZQ%3D%3D?line=0'>1</a>\u001b[0m \u001b[39mimport\u001b[39;00m \u001b[39maltair\u001b[39;00m \u001b[39mas\u001b[39;00m \u001b[39malt\u001b[39;00m\n\u001b[0;32m----> <a href='vscode-notebook-cell:/home/time/docs/projets/fio/notebooks/thing.ipynb#W4sZmlsZQ%3D%3D?line=1'>2</a>\u001b[0m \u001b[39mfrom\u001b[39;00m \u001b[39mvega_datasets\u001b[39;00m \u001b[39mimport\u001b[39;00m data\n\u001b[1;32m      <a href='vscode-notebook-cell:/home/time/docs/projets/fio/notebooks/thing.ipynb#W4sZmlsZQ%3D%3D?line=3'>4</a>\u001b[0m source \u001b[39m=\u001b[39m data\u001b[39m.\u001b[39mwheat()\n\u001b[1;32m      <a href='vscode-notebook-cell:/home/time/docs/projets/fio/notebooks/thing.ipynb#W4sZmlsZQ%3D%3D?line=5'>6</a>\u001b[0m alt\u001b[39m.\u001b[39mChart(source)\u001b[39m.\u001b[39mmark_trail()\u001b[39m.\u001b[39mencode(\n\u001b[1;32m      <a href='vscode-notebook-cell:/home/time/docs/projets/fio/notebooks/thing.ipynb#W4sZmlsZQ%3D%3D?line=6'>7</a>\u001b[0m     x\u001b[39m=\u001b[39m\u001b[39m'\u001b[39m\u001b[39myear:T\u001b[39m\u001b[39m'\u001b[39m,\n\u001b[1;32m      <a href='vscode-notebook-cell:/home/time/docs/projets/fio/notebooks/thing.ipynb#W4sZmlsZQ%3D%3D?line=7'>8</a>\u001b[0m     y\u001b[39m=\u001b[39m\u001b[39m'\u001b[39m\u001b[39mwheat:Q\u001b[39m\u001b[39m'\u001b[39m,\n\u001b[1;32m      <a href='vscode-notebook-cell:/home/time/docs/projets/fio/notebooks/thing.ipynb#W4sZmlsZQ%3D%3D?line=8'>9</a>\u001b[0m     size\u001b[39m=\u001b[39m\u001b[39m'\u001b[39m\u001b[39mwheat:Q\u001b[39m\u001b[39m'\u001b[39m\n\u001b[1;32m     <a href='vscode-notebook-cell:/home/time/docs/projets/fio/notebooks/thing.ipynb#W4sZmlsZQ%3D%3D?line=9'>10</a>\u001b[0m )\n",
      "\u001b[0;31mModuleNotFoundError\u001b[0m: No module named 'vega_datasets'"
     ]
    }
   ],
   "source": [
    "import altair as alt\n",
    "from vega_datasets import data\n",
    "\n",
    "source = data.wheat()\n",
    "\n",
    "alt.Chart(source).mark_trail().encode(\n",
    "    x='year:T',\n",
    "    y='wheat:Q',\n",
    "    size='wheat:Q'\n",
    ")"
   ]
  },
  {
   "cell_type": "code",
   "execution_count": null,
   "metadata": {},
   "outputs": [],
   "source": []
  }
 ],
 "metadata": {
  "kernelspec": {
   "display_name": "Python 3.10.8 64-bit",
   "language": "python",
   "name": "python3"
  },
  "language_info": {
   "codemirror_mode": {
    "name": "ipython",
    "version": 3
   },
   "file_extension": ".py",
   "mimetype": "text/x-python",
   "name": "python",
   "nbconvert_exporter": "python",
   "pygments_lexer": "ipython3",
   "version": "3.10.8"
  },
  "orig_nbformat": 4,
  "vscode": {
   "interpreter": {
    "hash": "4db17f31f4763c47c3c8e3bc49c08c6cf6cbf46132062c0430fa9724e5264898"
   }
  }
 },
 "nbformat": 4,
 "nbformat_minor": 2
}
