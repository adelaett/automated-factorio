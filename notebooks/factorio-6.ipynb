{
 "cells": [
  {
   "cell_type": "code",
   "execution_count": 1,
   "metadata": {},
   "outputs": [],
   "source": [
    "import mip\n"
   ]
  },
  {
   "cell_type": "code",
   "execution_count": 2,
   "metadata": {},
   "outputs": [
    {
     "name": "stdout",
     "output_type": "stream",
     "text": [
      "OptimizationStatus.OPTIMAL\n"
     ]
    },
    {
     "data": {
      "text/plain": [
       "({('a', 1),\n",
       "  ('a', 2),\n",
       "  ('a', 3),\n",
       "  ('b', 1),\n",
       "  ('b', 2),\n",
       "  ('b', 3),\n",
       "  ('c', 1),\n",
       "  ('c', 2),\n",
       "  ('c', 3)},\n",
       " {1, 2, 3})"
      ]
     },
     "execution_count": 2,
     "metadata": {},
     "output_type": "execute_result"
    }
   ],
   "source": [
    "\n",
    "from itertools import product\n",
    "\n",
    "# sum_((a1, a2) in A) c_(a1, a2) \\sum_((b1, b2) in B \\setminus \\Delta) x[i1, j1] * x[b2, b2]\n",
    "\n",
    "\n",
    "def bin_packing_frac(A, B, c, sizes):\n",
    "    # c capacity of all the bins\n",
    "\n",
    "    model = mip.Model()\n",
    "    model.verbose = 0\n",
    "\n",
    "    x = {(a, b): model.add_var(f\"x_{a}_{b}\", obj=0, var_type=mip.BINARY) for a, b in product(A, B)}\n",
    "    y = {b: model.add_var(f\"y_{b}\", obj=1, var_type=mip.BINARY) for b in B}\n",
    "\n",
    "    lambd = {(a, b): model.add_var(f\"lambda_{a}_{b}\", obj=0, lb=0, ub=1, var_type=mip.CONTINUOUS) for a, b in product(A, B)}\n",
    "    alpha = {b: model.add_var(f\"alpha_{b}\", obj=0, lb=0, ub=1, var_type=mip.CONTINUOUS) for b in B}\n",
    "\n",
    "    for b in B:\n",
    "        model.add_constr(mip.quicksum(sizes[a] * lambd[a, b] for a in A) <= c * y[b])\n",
    "\n",
    "    for a in A:\n",
    "        model.add_constr(mip.quicksum(lambd[a, b] for b in B) == 1)\n",
    "\n",
    "    for a, b in product(A, B):\n",
    "        # non-linear constraint `model.add_constr(lambd[a, b] == alpha[b] * x[a, b])` is remplaced by:\n",
    "\n",
    "        model.add_constr(lambd[a, b] <= x[a, b])\n",
    "        model.add_constr(lambd[a, b] <= alpha[b])\n",
    "        model.add_constr(lambd[a, b] + 1 >= alpha[b] + x[a, b])\n",
    "\n",
    "    model.optimize()\n",
    "\n",
    "    print(model.status)\n",
    "\n",
    "    return {k for k, v in x.items() if v.x > 0}, {k for k, v in y.items() if v.x > 0}\n",
    "\n",
    "bin_packing_frac({\"a\", \"b\", \"c\"}, {1, 2, 3}, 15, {\"a\": 32, \"b\": 4, \"c\": 4} )"
   ]
  },
  {
   "cell_type": "code",
   "execution_count": 3,
   "metadata": {},
   "outputs": [
    {
     "ename": "SyntaxError",
     "evalue": "':' expected after dictionary key (2404558720.py, line 33)",
     "output_type": "error",
     "traceback": [
      "\u001b[0;36m  Input \u001b[0;32mIn [3]\u001b[0;36m\u001b[0m\n\u001b[0;31m    bin_packing_frac({\"a\": {\"b\": 1}, \"b\", \"c\"}, {1, 2, 3}, 15, {\"a\": 32, \"b\": 4, \"c\": 4} )\u001b[0m\n\u001b[0m                                       ^\u001b[0m\n\u001b[0;31mSyntaxError\u001b[0m\u001b[0;31m:\u001b[0m ':' expected after dictionary key\n"
     ]
    }
   ],
   "source": [
    "# A is now a weighted directed graph\n",
    "\n",
    "def bin_packing_frac(A, B, c, sizes):\n",
    "    # c capacity of all the bins\n",
    "    \n",
    "    model = mip.Model(solver_name=mip.GRB)\n",
    "    \n",
    "    x = {(a, b): model.add_var(f\"x_{a}_{b}\", obj=0, var_type=mip.BINARY) for a, b in product(A, B)}\n",
    "    y = {b: model.add_var(f\"y_{b}\", obj=1, var_type=mip.BINARY) for b in B}\n",
    "    \n",
    "    lambd = {(a, b): model.add_var(f\"lambda_{a}_{b}\", obj=0, lb=0, ub=1, var_type=mip.CONTINUOUS) for a, b in product(A, B)}\n",
    "    alpha = {b: model.add_var(f\"alpha_{b}\", obj=0, lb=0, ub=1, var_type=mip.CONTINUOUS) for b in B}\n",
    "    \n",
    "    for b in B:\n",
    "        model.add_constr(mip.quicksum(sizes[a] * lambd[a, b] for a in A) <= c * y[b])\n",
    "    \n",
    "    for a in A:\n",
    "        model.add_constr(mip.quicksum(lambd[a, b] for b in B) == 1)\n",
    "    \n",
    "    for a, b in product(A, B):\n",
    "        # non-linear constraint `model.add_constr(lambd[a, b] == alpha[b] * x[a, b])` is remplaced by:\n",
    "\n",
    "        model.add_constr(lambd[a, b] <= x[a, b])\n",
    "        model.add_constr(lambd[a, b] <= alpha[b])\n",
    "        model.add_constr(lambd[a, b] + 1 >= alpha[b] + x[a, b])\n",
    "\n",
    "    model.optimize()\n",
    "\n",
    "    print(model.status)\n",
    "\n",
    "    return {k for k, v in x.items() if v.x > 0}, {k for k, v in y.items() if v.x > 0}\n",
    "\n",
    "bin_packing_frac({\"a\": {\"b\": 1}, \"b\", \"c\"}, {1, 2, 3}, 15, {\"a\": 32, \"b\": 4, \"c\": 4} )"
   ]
  },
  {
   "cell_type": "code",
   "execution_count": null,
   "metadata": {},
   "outputs": [],
   "source": []
  },
  {
   "cell_type": "code",
   "execution_count": null,
   "metadata": {},
   "outputs": [],
   "source": []
  }
 ],
 "metadata": {
  "kernelspec": {
   "display_name": "Python 3.10.8 64-bit",
   "language": "python",
   "name": "python3"
  },
  "language_info": {
   "codemirror_mode": {
    "name": "ipython",
    "version": 3
   },
   "file_extension": ".py",
   "mimetype": "text/x-python",
   "name": "python",
   "nbconvert_exporter": "python",
   "pygments_lexer": "ipython3",
   "version": "3.10.8"
  },
  "vscode": {
   "interpreter": {
    "hash": "4db17f31f4763c47c3c8e3bc49c08c6cf6cbf46132062c0430fa9724e5264898"
   }
  }
 },
 "nbformat": 4,
 "nbformat_minor": 4
}
