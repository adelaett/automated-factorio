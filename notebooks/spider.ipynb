{
 "cells": [
  {
   "cell_type": "code",
   "execution_count": 21,
   "metadata": {},
   "outputs": [],
   "source": [
    "import requests\n",
    "import re\n",
    "from bs4 import BeautifulSoup\n",
    "from urllib.parse import urljoin, urldefrag\n",
    "from collections import deque\n",
    "\n",
    "import pandas as pd\n",
    "\n",
    "def crawl_website(start_url, regex):\n",
    "    # Define a set to store the crawled URLs\n",
    "    crawled_urls = set()\n",
    "\n",
    "    # Define a queue to store the URLs to be crawled\n",
    "    url_queue = deque([start_url])\n",
    "\n",
    "    # Loop until the queue is empty\n",
    "    while url_queue:\n",
    "        # Get the next URL to crawl from the queue\n",
    "        url = url_queue.popleft()\n",
    "\n",
    "        # If the URL has not been crawled yet, crawl it\n",
    "        if url not in crawled_urls:\n",
    "            print(url)\n",
    "            # Send a GET request to the URL\n",
    "            response = requests.get(url)\n",
    "            response.encoding = 'utf-8'\n",
    "\n",
    "            # If the request is successful, extract the links from the HTML\n",
    "            if response.status_code == 200:\n",
    "                soup = BeautifulSoup(response.text, \"html.parser\")\n",
    "                links = [urljoin(url, a['href']) for a in soup.find_all('a', href=True) if re.match(regex, urljoin(url, a['href']))]\n",
    "\n",
    "                table = soup.select_one(\".sie-table-layout-fixed > table:nth-child(1)\")\n",
    "                city = soup.select_one(\"html body#top main div.fr-container div.fr-col-12.fr-py-6v div.fr-grid-row.fr-grid-row--center.fr-mt-1w div.fr-col-9.etat-election-lieu-geographique h4.fr-h2.fr-mb-1v\")\n",
    "                if table is not None and city is not None:\n",
    "                    print(str(city.contents[0]), pd.read_html(str(table)))\n",
    "\n",
    "                # Add the crawled URL to the set\n",
    "                crawled_urls.add(url)\n",
    "\n",
    "                # Add the links that match the regular expression to the queue\n",
    "                for link in links:\n",
    "                    link, _ = urldefrag(link)\n",
    "                    full_link = urljoin(url, link)\n",
    "                    if full_link not in crawled_urls:\n",
    "                        url_queue.append(full_link)\n",
    "\n",
    "    # Return the set of crawled URLs\n",
    "    return crawled_urls"
   ]
  },
  {
   "cell_type": "code",
   "execution_count": 22,
   "metadata": {},
   "outputs": [
    {
     "name": "stdout",
     "output_type": "stream",
     "text": [
      "https://www.resultats-elections.interieur.gouv.fr/legislatives2024/ensemble_geographique/11/91/9105/index.html\n"
     ]
    },
    {
     "ename": "TypeError",
     "evalue": "'NoneType' object is not subscriptable",
     "output_type": "error",
     "traceback": [
      "\u001b[0;31m---------------------------------------------------------------------------\u001b[0m",
      "\u001b[0;31mTypeError\u001b[0m                                 Traceback (most recent call last)",
      "Cell \u001b[0;32mIn[22], line 5\u001b[0m\n\u001b[1;32m      2\u001b[0m regex \u001b[38;5;241m=\u001b[39m \u001b[38;5;124mr\u001b[39m\u001b[38;5;124m'\u001b[39m\u001b[38;5;124mhttps://www.resultats-elections.interieur.gouv.fr/legislatives2024/ensemble_geographique/11/91/9105/[^#]*\u001b[39m\u001b[38;5;124m'\u001b[39m\n\u001b[1;32m      4\u001b[0m \u001b[38;5;66;03m# Call the crawl_website function\u001b[39;00m\n\u001b[0;32m----> 5\u001b[0m crawled_urls \u001b[38;5;241m=\u001b[39m \u001b[43mcrawl_website\u001b[49m\u001b[43m(\u001b[49m\u001b[43mstart_url\u001b[49m\u001b[43m,\u001b[49m\u001b[43m \u001b[49m\u001b[43mregex\u001b[49m\u001b[43m)\u001b[49m\n\u001b[1;32m      7\u001b[0m \u001b[38;5;66;03m# Print the crawled URLs\u001b[39;00m\n\u001b[1;32m      8\u001b[0m \u001b[38;5;28;01mfor\u001b[39;00m url \u001b[38;5;129;01min\u001b[39;00m crawled_urls:\n",
      "Cell \u001b[0;32mIn[21], line 36\u001b[0m, in \u001b[0;36mcrawl_website\u001b[0;34m(start_url, regex)\u001b[0m\n\u001b[1;32m     34\u001b[0m city \u001b[38;5;241m=\u001b[39m soup\u001b[38;5;241m.\u001b[39mselect_one(\u001b[38;5;124m\"\u001b[39m\u001b[38;5;124mhtml body#top main div.fr-container div.fr-col-12.fr-py-6v div.fr-grid-row.fr-grid-row--center.fr-mt-1w div.fr-col-9.etat-election-lieu-geographique h4.fr-h2.fr-mb-1v\u001b[39m\u001b[38;5;124m\"\u001b[39m)\n\u001b[1;32m     35\u001b[0m \u001b[38;5;28;01mif\u001b[39;00m table \u001b[38;5;129;01mis\u001b[39;00m \u001b[38;5;129;01mnot\u001b[39;00m \u001b[38;5;28;01mNone\u001b[39;00m \u001b[38;5;129;01mand\u001b[39;00m city \u001b[38;5;129;01mis\u001b[39;00m \u001b[38;5;129;01mnot\u001b[39;00m \u001b[38;5;28;01mNone\u001b[39;00m:\n\u001b[0;32m---> 36\u001b[0m     \u001b[38;5;28mprint\u001b[39m(\u001b[38;5;28mstr\u001b[39m(\u001b[43mcity\u001b[49m\u001b[38;5;241;43m.\u001b[39;49m\u001b[43mcontent\u001b[49m\u001b[43m[\u001b[49m\u001b[38;5;241;43m0\u001b[39;49m\u001b[43m]\u001b[49m), pd\u001b[38;5;241m.\u001b[39mread_html(\u001b[38;5;28mstr\u001b[39m(table)))\n\u001b[1;32m     38\u001b[0m \u001b[38;5;66;03m# Add the crawled URL to the set\u001b[39;00m\n\u001b[1;32m     39\u001b[0m crawled_urls\u001b[38;5;241m.\u001b[39madd(url)\n",
      "\u001b[0;31mTypeError\u001b[0m: 'NoneType' object is not subscriptable"
     ]
    }
   ],
   "source": [
    "start_url = 'https://www.resultats-elections.interieur.gouv.fr/legislatives2024/ensemble_geographique/11/91/9105/index.html'\n",
    "regex = r'https://www.resultats-elections.interieur.gouv.fr/legislatives2024/ensemble_geographique/11/91/9105/[^#]*'\n",
    "\n",
    "# Call the crawl_website function\n",
    "crawled_urls = crawl_website(start_url, regex)\n",
    "\n",
    "# Print the crawled URLs\n",
    "for url in crawled_urls:\n",
    "    print(url)"
   ]
  },
  {
   "cell_type": "code",
   "execution_count": null,
   "metadata": {},
   "outputs": [],
   "source": [
    "\n",
    "xpath = \"/html/body/main/div[3]/div/table\"\n",
    "csspath = \"html body#top main div.fr-grid-row.fr-grid-row--center.fr-mt-2w.fr-container div.fr-table.sie-table-layout-fixed.fr-col-12 table\"\n",
    "cssselector = \".sie-table-layout-fixed > table:nth-child(1)\"\n",
    "\n",
    "\n",
    "csspath = \n"
   ]
  }
 ],
 "metadata": {
  "language_info": {
   "name": "python"
  }
 },
 "nbformat": 4,
 "nbformat_minor": 2
}
