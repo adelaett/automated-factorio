{
 "cells": [
  {
   "cell_type": "code",
   "execution_count": 1,
   "metadata": {},
   "outputs": [],
   "source": [
    "import pandas as pd"
   ]
  },
  {
   "cell_type": "markdown",
   "metadata": {},
   "source": [
    "# Elections legislatives de 2022"
   ]
  },
  {
   "cell_type": "code",
   "execution_count": 2,
   "metadata": {},
   "outputs": [
    {
     "name": "stderr",
     "output_type": "stream",
     "text": [
      "/tmp/ipykernel_4268/420966855.py:1: DtypeWarning: Columns (0,6,126,127,128,129,134,135,136,137,142,143,144,145,150,151,152,153,158,159,160,161,166,167,168,169,174,175,176,177,182,183,184,185,190,191,192,193) have mixed types. Specify dtype option on import or set low_memory=False.\n",
      "  elec_2022_t1 = pd.read_csv(\"data/2022-resultats-par-niveau-burvot-t1-france-entiere.csv\")\n",
      "/tmp/ipykernel_4268/420966855.py:3: DtypeWarning: Columns (0,6,38,39,40,41) have mixed types. Specify dtype option on import or set low_memory=False.\n",
      "  elec_2022_t2 = pd.read_csv(\"data/2022-resultats-par-niveau-burvot-t2-france-entiere.csv\")\n"
     ]
    }
   ],
   "source": [
    "elec_2022_t1 = pd.read_csv(\"data/2022-resultats-par-niveau-burvot-t1-france-entiere.csv\")\n",
    "\n",
    "elec_2022_t2 = pd.read_csv(\"data/2022-resultats-par-niveau-burvot-t2-france-entiere.csv\")"
   ]
  },
  {
   "cell_type": "code",
   "execution_count": 8,
   "metadata": {},
   "outputs": [
    {
     "name": "stdout",
     "output_type": "stream",
     "text": [
      "{'LR', 'UDI', 'REC', 'DVG', 'RDG', 'RN', 'DXG', 'REG', 'DXD', 'NUP', 'ECO', 'DIV', 'DVD', 'DVC', 'ENS', 'DSV'}\n"
     ]
    }
   ],
   "source": [
    "# 5eme de l'essonne\n",
    "elec_2022_t1[\n",
    "  (elec_2022_t1[\"Code de la circonscription\"] == 5) &\\\n",
    "  (elec_2022_t1[\"Code du département\"] == 91)\n",
    "]\n",
    "\n",
    "elec_2022_t2[\n",
    "  (elec_2022_t2[\"Code de la circonscription\"] == 5) &\\\n",
    "  (elec_2022_t2[\"Code du département\"] == 91)\n",
    "]\n",
    "\n",
    "\n",
    "nuances = set()\n",
    "for i in range(1, 28+1):\n",
    "  nuances.update(map(str, elec_2022_t1[f\"Nuance{i}\"]))\n",
    "\n",
    "for i in range(1, 4+1):\n",
    "  nuances.update(map(str, elec_2022_t2[f\"Nuance{i}\"]))\n",
    "\n",
    "nuances -= set([\"nan\"])\n",
    "print(nuances) # {'LR', 'UDI', 'REC', 'DVG', 'RDG', 'RN', 'DXG', 'REG', 'DXD', 'NUP', 'ECO', 'DIV', 'DVD', 'DVC', 'ENS', 'DSV'}\n",
    "\n",
    "nuances = [\n",
    "  'DXG',\n",
    "  'RDG',\n",
    "  'NUP',\n",
    "  'DVG',\n",
    "  'ECO',\n",
    "  'DIV',\n",
    "  'REG',\n",
    "  'ENS',\n",
    "  'DVC',\n",
    "  'UDI',\n",
    "  'LR',\n",
    "  'DVD',\n",
    "  'DSV',\n",
    "  'REC',\n",
    "  'RN',\n",
    "  'DXD',\n",
    "]\n",
    "\n",
    "\n"
   ]
  },
  {
   "cell_type": "code",
   "execution_count": 9,
   "metadata": {},
   "outputs": [],
   "source": [
    "import numpy as np\n",
    "\n",
    "elec_2022_t1_processed = []\n",
    "for index, row in elec_2022_t1.iterrows():\n",
    "\n",
    "  votes = {n: 0 for n in nuances}\n",
    "  \n",
    "  \n",
    "  for i in range(1, 28+1):\n",
    "    if f\"Nuance{i}\" not in row or str(row[f\"Nuance{i}\"]) == \"nan\":\n",
    "      continue\n",
    "    votes[row[f\"Nuance{i}\"]] += int(row[f\"Voix{i}\"])\n",
    "\n",
    "  elec_2022_t1_processed.append(dict(row[[\"Code du département\",\n",
    "  \"Code de la circonscription\",\n",
    "  \"Code de la commune\",\n",
    "  \"Code du b.vote\",\n",
    "  \"Inscrits\",\n",
    "  \"Abstentions\",\n",
    "  \"Blancs\"]], **votes))\n",
    "\n",
    "elec_2022_t1_processed = pd.DataFrame.from_records(elec_2022_t1_processed, columns=[\"Code du département\",\n",
    "  \"Code de la circonscription\",\n",
    "  \"Code de la commune\",\n",
    "  \"Code du b.vote\",\n",
    "  \"Inscrits\",\n",
    "  \"Abstentions\",\n",
    "  \"Blancs\"] + list(nuances))\n",
    "\n",
    "elec_2022_t1_processed.to_csv(\"data/2022-burvot-t1.csv\", index=False)\n",
    "\n"
   ]
  },
  {
   "cell_type": "code",
   "execution_count": null,
   "metadata": {},
   "outputs": [],
   "source": [
    "import numpy as np\n",
    "\n",
    "elec_2022_t2_processed = []\n",
    "for index, row in elec_2022_t2.iterrows():\n",
    "\n",
    "  votes = {n: 0 for n in nuances}\n",
    "  \n",
    "  \n",
    "  for i in range(1, 4+1):\n",
    "    if f\"Nuance{i}\" not in row or str(row[f\"Nuance{i}\"]) == \"nan\":\n",
    "      continue\n",
    "    votes[row[f\"Nuance{i}\"]] += int(row[f\"Voix{i}\"])\n",
    "\n",
    "  elec_2022_t2_processed.append(dict(row[[\"Code du département\",\n",
    "  \"Code de la circonscription\",\n",
    "  \"Code de la commune\",\n",
    "  \"Code du b.vote\",\n",
    "  \"Inscrits\",\n",
    "  \"Abstentions\",\n",
    "  \"Blancs\"]], **votes))\n",
    "\n",
    "elec_2022_t2_processed = pd.DataFrame.from_records(elec_2022_t2_processed, columns=[\"Code du département\",\n",
    "  \"Code de la circonscription\",\n",
    "  \"Code de la commune\",\n",
    "  \"Code du b.vote\",\n",
    "  \"Inscrits\",\n",
    "  \"Abstentions\",\n",
    "  \"Blancs\"] + list(nuances))\n",
    "\n",
    "elec_2022_t2_processed.to_csv(\"data/2022-burvot-t2.csv\", index=False)\n",
    "\n",
    "  "
   ]
  },
  {
   "cell_type": "code",
   "execution_count": null,
   "metadata": {},
   "outputs": [],
   "source": [
    "a = elec_2022_t1_processed[(elec_2022_t1_processed[\"Code de la circonscription\"] == 5) &\\\n",
    "  (elec_2022_t1_processed[\"Code du département\"] == 91)]\n",
    "\n",
    "b = elec_2022_t2_processed[(elec_2022_t2_processed[\"Code de la circonscription\"] == 5) &\\\n",
    "  (elec_2022_t2_processed[\"Code du département\"] == 91)]\n",
    "\n",
    "\n"
   ]
  },
  {
   "cell_type": "markdown",
   "metadata": {},
   "source": [
    "# Elections Europe 2024"
   ]
  },
  {
   "cell_type": "code",
   "execution_count": 7,
   "metadata": {},
   "outputs": [
    {
     "name": "stderr",
     "output_type": "stream",
     "text": [
      "/tmp/ipykernel_4268/4265528808.py:1: DtypeWarning: Columns (2,4,6) have mixed types. Specify dtype option on import or set low_memory=False.\n",
      "  elec_2024 = pd.read_csv(\"data/2024-resultats-par-niveau-burvot-t1-france-entiere.csv\")\n"
     ]
    }
   ],
   "source": [
    "elec_2024 = pd.read_csv(\"data/2024-resultats-par-niveau-burvot-t1-france-entiere.csv\")\n",
    "\n"
   ]
  },
  {
   "cell_type": "code",
   "execution_count": null,
   "metadata": {},
   "outputs": [],
   "source": []
  }
 ],
 "metadata": {
  "language_info": {
   "name": "python"
  }
 },
 "nbformat": 4,
 "nbformat_minor": 2
}
