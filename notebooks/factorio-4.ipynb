{
 "cells": [
  {
   "cell_type": "code",
   "execution_count": 7,
   "id": "17e28243-d7f4-476b-94d6-4b51b377ed8f",
   "metadata": {},
   "outputs": [],
   "source": [
    "import mip\n",
    "from collections import namedtuple, defaultdict\n",
    "from itertools import product\n"
   ]
  },
  {
   "cell_type": "code",
   "execution_count": 8,
   "id": "17814c50-b303-4cf4-8b0d-e753c1dcdbe1",
   "metadata": {},
   "outputs": [
    {
     "ename": "InterfacingError",
     "evalue": "Gurobi environment could not be loaded, check your license.",
     "output_type": "error",
     "traceback": [
      "\u001b[0;31m---------------------------------------------------------------------------\u001b[0m",
      "\u001b[0;31mInterfacingError\u001b[0m                          Traceback (most recent call last)",
      "\u001b[0;32m<ipython-input-8-52c62f28658e>\u001b[0m in \u001b[0;36m<module>\u001b[0;34m\u001b[0m\n\u001b[1;32m     17\u001b[0m     \u001b[0;32mreturn\u001b[0m \u001b[0;34m{\u001b[0m\u001b[0mk\u001b[0m \u001b[0;32mfor\u001b[0m \u001b[0mk\u001b[0m\u001b[0;34m,\u001b[0m \u001b[0mv\u001b[0m \u001b[0;32min\u001b[0m \u001b[0mx\u001b[0m\u001b[0;34m.\u001b[0m\u001b[0mitems\u001b[0m\u001b[0;34m(\u001b[0m\u001b[0;34m)\u001b[0m \u001b[0;32mif\u001b[0m \u001b[0mv\u001b[0m\u001b[0;34m.\u001b[0m\u001b[0mx\u001b[0m \u001b[0;34m>\u001b[0m \u001b[0;36m0\u001b[0m\u001b[0;34m}\u001b[0m\u001b[0;34m,\u001b[0m \u001b[0;34m{\u001b[0m\u001b[0mk\u001b[0m \u001b[0;32mfor\u001b[0m \u001b[0mk\u001b[0m\u001b[0;34m,\u001b[0m \u001b[0mv\u001b[0m \u001b[0;32min\u001b[0m \u001b[0my\u001b[0m\u001b[0;34m.\u001b[0m\u001b[0mitems\u001b[0m\u001b[0;34m(\u001b[0m\u001b[0;34m)\u001b[0m \u001b[0;32mif\u001b[0m \u001b[0mv\u001b[0m\u001b[0;34m.\u001b[0m\u001b[0mx\u001b[0m \u001b[0;34m>\u001b[0m \u001b[0;36m0\u001b[0m\u001b[0;34m}\u001b[0m\u001b[0;34m\u001b[0m\u001b[0;34m\u001b[0m\u001b[0m\n\u001b[1;32m     18\u001b[0m \u001b[0;34m\u001b[0m\u001b[0m\n\u001b[0;32m---> 19\u001b[0;31m \u001b[0mbin_packing\u001b[0m\u001b[0;34m(\u001b[0m\u001b[0;34m{\u001b[0m\u001b[0;34m\"a\"\u001b[0m\u001b[0;34m,\u001b[0m \u001b[0;34m\"b\"\u001b[0m\u001b[0;34m,\u001b[0m \u001b[0;34m\"c\"\u001b[0m\u001b[0;34m}\u001b[0m\u001b[0;34m,\u001b[0m \u001b[0;34m{\u001b[0m\u001b[0;36m1\u001b[0m\u001b[0;34m,\u001b[0m \u001b[0;36m2\u001b[0m\u001b[0;34m,\u001b[0m \u001b[0;36m3\u001b[0m\u001b[0;34m}\u001b[0m\u001b[0;34m,\u001b[0m \u001b[0;36m15\u001b[0m\u001b[0;34m,\u001b[0m \u001b[0;34m{\u001b[0m\u001b[0;34m\"a\"\u001b[0m\u001b[0;34m:\u001b[0m \u001b[0;36m10\u001b[0m\u001b[0;34m,\u001b[0m \u001b[0;34m\"b\"\u001b[0m\u001b[0;34m:\u001b[0m \u001b[0;36m4\u001b[0m\u001b[0;34m,\u001b[0m \u001b[0;34m\"c\"\u001b[0m\u001b[0;34m:\u001b[0m \u001b[0;36m11\u001b[0m\u001b[0;34m}\u001b[0m \u001b[0;34m)\u001b[0m\u001b[0;34m\u001b[0m\u001b[0;34m\u001b[0m\u001b[0m\n\u001b[0m",
      "\u001b[0;32m<ipython-input-8-52c62f28658e>\u001b[0m in \u001b[0;36mbin_packing\u001b[0;34m(A, B, c, sizes)\u001b[0m\n\u001b[1;32m      2\u001b[0m     \u001b[0;31m# c capacity of all the bins\u001b[0m\u001b[0;34m\u001b[0m\u001b[0;34m\u001b[0m\u001b[0;34m\u001b[0m\u001b[0m\n\u001b[1;32m      3\u001b[0m \u001b[0;34m\u001b[0m\u001b[0m\n\u001b[0;32m----> 4\u001b[0;31m     \u001b[0mmodel\u001b[0m \u001b[0;34m=\u001b[0m \u001b[0mmip\u001b[0m\u001b[0;34m.\u001b[0m\u001b[0mModel\u001b[0m\u001b[0;34m(\u001b[0m\u001b[0;34m)\u001b[0m\u001b[0;34m\u001b[0m\u001b[0;34m\u001b[0m\u001b[0m\n\u001b[0m\u001b[1;32m      5\u001b[0m \u001b[0;34m\u001b[0m\u001b[0m\n\u001b[1;32m      6\u001b[0m     \u001b[0mx\u001b[0m \u001b[0;34m=\u001b[0m \u001b[0;34m{\u001b[0m\u001b[0;34m(\u001b[0m\u001b[0ma\u001b[0m\u001b[0;34m,\u001b[0m \u001b[0mb\u001b[0m\u001b[0;34m)\u001b[0m\u001b[0;34m:\u001b[0m \u001b[0mmodel\u001b[0m\u001b[0;34m.\u001b[0m\u001b[0madd_var\u001b[0m\u001b[0;34m(\u001b[0m\u001b[0;34mf\"x_{a}_{b}\"\u001b[0m\u001b[0;34m,\u001b[0m \u001b[0mobj\u001b[0m\u001b[0;34m=\u001b[0m\u001b[0;36m0\u001b[0m\u001b[0;34m,\u001b[0m \u001b[0mvar_type\u001b[0m\u001b[0;34m=\u001b[0m\u001b[0mmip\u001b[0m\u001b[0;34m.\u001b[0m\u001b[0mBINARY\u001b[0m\u001b[0;34m)\u001b[0m \u001b[0;32mfor\u001b[0m \u001b[0ma\u001b[0m\u001b[0;34m,\u001b[0m \u001b[0mb\u001b[0m \u001b[0;32min\u001b[0m \u001b[0mproduct\u001b[0m\u001b[0;34m(\u001b[0m\u001b[0mA\u001b[0m\u001b[0;34m,\u001b[0m \u001b[0mB\u001b[0m\u001b[0;34m)\u001b[0m\u001b[0;34m}\u001b[0m\u001b[0;34m\u001b[0m\u001b[0;34m\u001b[0m\u001b[0m\n",
      "\u001b[0;32m/nix/store/n2n87v1mp8y6ak9jfszyy9aacyy45jb6-python3.8-mip-1.13.0/lib/python3.8/site-packages/mip/model.py\u001b[0m in \u001b[0;36m__init__\u001b[0;34m(self, name, sense, solver_name, solver)\u001b[0m\n\u001b[1;32m     93\u001b[0m                 \u001b[0;32mif\u001b[0m \u001b[0mmip\u001b[0m\u001b[0;34m.\u001b[0m\u001b[0mgurobi\u001b[0m\u001b[0;34m.\u001b[0m\u001b[0mfound\u001b[0m\u001b[0;34m:\u001b[0m\u001b[0;34m\u001b[0m\u001b[0;34m\u001b[0m\u001b[0m\n\u001b[1;32m     94\u001b[0m \u001b[0;34m\u001b[0m\u001b[0m\n\u001b[0;32m---> 95\u001b[0;31m                     \u001b[0mself\u001b[0m\u001b[0;34m.\u001b[0m\u001b[0msolver\u001b[0m \u001b[0;34m=\u001b[0m \u001b[0mmip\u001b[0m\u001b[0;34m.\u001b[0m\u001b[0mgurobi\u001b[0m\u001b[0;34m.\u001b[0m\u001b[0mSolverGurobi\u001b[0m\u001b[0;34m(\u001b[0m\u001b[0mself\u001b[0m\u001b[0;34m,\u001b[0m \u001b[0mname\u001b[0m\u001b[0;34m,\u001b[0m \u001b[0msense\u001b[0m\u001b[0;34m)\u001b[0m\u001b[0;34m\u001b[0m\u001b[0;34m\u001b[0m\u001b[0m\n\u001b[0m\u001b[1;32m     96\u001b[0m                     \u001b[0mself\u001b[0m\u001b[0;34m.\u001b[0m\u001b[0msolver_name\u001b[0m \u001b[0;34m=\u001b[0m \u001b[0mmip\u001b[0m\u001b[0;34m.\u001b[0m\u001b[0mGUROBI\u001b[0m\u001b[0;34m\u001b[0m\u001b[0;34m\u001b[0m\u001b[0m\n\u001b[1;32m     97\u001b[0m                 \u001b[0;32melse\u001b[0m\u001b[0;34m:\u001b[0m\u001b[0;34m\u001b[0m\u001b[0;34m\u001b[0m\u001b[0m\n",
      "\u001b[0;32m/nix/store/n2n87v1mp8y6ak9jfszyy9aacyy45jb6-python3.8-mip-1.13.0/lib/python3.8/site-packages/mip/gurobi.py\u001b[0m in \u001b[0;36m__init__\u001b[0;34m(self, model, name, sense, modelp)\u001b[0m\n\u001b[1;32m    354\u001b[0m             \u001b[0mst\u001b[0m \u001b[0;34m=\u001b[0m \u001b[0mGRBloadenv\u001b[0m\u001b[0;34m(\u001b[0m\u001b[0mself\u001b[0m\u001b[0;34m.\u001b[0m\u001b[0m_env\u001b[0m\u001b[0;34m,\u001b[0m \u001b[0;34m\"\"\u001b[0m\u001b[0;34m.\u001b[0m\u001b[0mencode\u001b[0m\u001b[0;34m(\u001b[0m\u001b[0;34m\"utf-8\"\u001b[0m\u001b[0;34m)\u001b[0m\u001b[0;34m)\u001b[0m\u001b[0;34m\u001b[0m\u001b[0;34m\u001b[0m\u001b[0m\n\u001b[1;32m    355\u001b[0m             \u001b[0;32mif\u001b[0m \u001b[0mst\u001b[0m \u001b[0;34m!=\u001b[0m \u001b[0;36m0\u001b[0m\u001b[0;34m:\u001b[0m\u001b[0;34m\u001b[0m\u001b[0;34m\u001b[0m\u001b[0m\n\u001b[0;32m--> 356\u001b[0;31m                 raise InterfacingError(\n\u001b[0m\u001b[1;32m    357\u001b[0m                     \u001b[0;34m\"Gurobi environment could not be loaded, check your license.\"\u001b[0m\u001b[0;34m\u001b[0m\u001b[0;34m\u001b[0m\u001b[0m\n\u001b[1;32m    358\u001b[0m                 )\n",
      "\u001b[0;31mInterfacingError\u001b[0m: Gurobi environment could not be loaded, check your license."
     ]
    }
   ],
   "source": [
    "def bin_packing(A, B, c, sizes):\n",
    "    # c capacity of all the bins\n",
    "    \n",
    "    model = mip.Model()\n",
    "    \n",
    "    x = {(a, b): model.add_var(f\"x_{a}_{b}\", obj=0, var_type=mip.BINARY) for a, b in product(A, B)}\n",
    "    y = {b: model.add_var(f\"y_{b}\", obj=1, var_type=mip.BINARY) for b in B}\n",
    "    \n",
    "    for b in B:\n",
    "        model.add_constr(mip.quicksum(sizes[a] * x[a, b] for a in A) <= c * y[b])\n",
    "    \n",
    "    for a in A:\n",
    "        model.add_constr(mip.quicksum(x[a, b] for b in B) == 1)\n",
    "    \n",
    "    model.optimize()\n",
    "    \n",
    "    return {k for k, v in x.items() if v.x > 0}, {k for k, v in y.items() if v.x > 0}\n",
    "\n",
    "bin_packing({\"a\", \"b\", \"c\"}, {1, 2, 3}, 15, {\"a\": 10, \"b\": 4, \"c\": 11} )\n"
   ]
  },
  {
   "cell_type": "code",
   "execution_count": null,
   "id": "c96518e0-1080-4a38-8083-0f2e88e3ebd5",
   "metadata": {},
   "outputs": [],
   "source": [
    "def bin_packing_frac(A, B, c, sizes):\n",
    "    # c capacity of all the bins\n",
    "    \n",
    "    model = mip.Model()\n",
    "    \n",
    "    x = {(a, b): model.add_var(f\"x_{a}_{b}\", obj=0, var_type=mip.BINARY) for a, b in product(A, B)}\n",
    "    y = {b: model.add_var(f\"y_{b}\", obj=1, var_type=mip.BINARY) for b in B}\n",
    "    \n",
    "    lambd = {(a, b): model.add_var(f\"lambda_{a}_{b}\", obj=0, lb=0, ub=1, var_type=mip.CONTINUOUS) for a, b in product(A, B)}\n",
    "    alpha = {b: model.add_var(f\"alpha_{b}\", obj=0, lb=0, ub=1, var_type=mip.CONTINUOUS) for b in B}\n",
    "    \n",
    "    for b in B:\n",
    "        model.add_constr(mip.quicksum(sizes[a] * lambd[a, b] for a in A) <= c * y[b])\n",
    "    \n",
    "    for a in A:\n",
    "        model.add_constr(mip.quicksum(lambd[a, b] for b in B) == 1)\n",
    "    \n",
    "    for a, b in product(A, B):\n",
    "        # non-linear constraint `model.add_constr(lambd[a, b] == alpha[b] * x[a, b])` is remplaced by:\n",
    "\n",
    "        model.add_constr(lambd[a, b] <= x[a, b])\n",
    "        model.add_constr(lambd[a, b] <= alpha[b])\n",
    "        model.add_constr(lambd[a, b] + 1 >= alpha[b] + x[a, b])\n",
    "    \n",
    "    \n",
    "    \n",
    "    model.optimize()\n",
    "    \n",
    "    print(model.status)\n",
    "    \n",
    "    return {k for k, v in x.items() if v.x > 0}, {k for k, v in y.items() if v.x > 0}\n",
    "\n",
    "bin_packing_frac({\"a\", \"b\", \"c\"}, {1, 2, 3}, 15, {\"a\": 32, \"b\": 4, \"c\": 4} )\n"
   ]
  },
  {
   "cell_type": "code",
   "execution_count": 3,
   "id": "45a4c083-21d3-4f37-a7b6-ab4428e1846a",
   "metadata": {},
   "outputs": [
    {
     "ename": "InterfacingError",
     "evalue": "Gurobi environment could not be loaded, check your license.",
     "output_type": "error",
     "traceback": [
      "\u001b[0;31m---------------------------------------------------------------------------\u001b[0m",
      "\u001b[0;31mInterfacingError\u001b[0m                          Traceback (most recent call last)",
      "\u001b[0;32m<ipython-input-3-3743f61235bc>\u001b[0m in \u001b[0;36m<module>\u001b[0;34m\u001b[0m\n\u001b[1;32m     34\u001b[0m     \u001b[0;32mreturn\u001b[0m \u001b[0;34m{\u001b[0m\u001b[0mk\u001b[0m \u001b[0;32mfor\u001b[0m \u001b[0mk\u001b[0m\u001b[0;34m,\u001b[0m \u001b[0mv\u001b[0m \u001b[0;32min\u001b[0m \u001b[0mx\u001b[0m\u001b[0;34m.\u001b[0m\u001b[0mitems\u001b[0m\u001b[0;34m(\u001b[0m\u001b[0;34m)\u001b[0m \u001b[0;32mif\u001b[0m \u001b[0mv\u001b[0m\u001b[0;34m.\u001b[0m\u001b[0mx\u001b[0m \u001b[0;34m>\u001b[0m \u001b[0;36m0\u001b[0m\u001b[0;34m}\u001b[0m\u001b[0;34m,\u001b[0m \u001b[0;34m{\u001b[0m\u001b[0mk\u001b[0m \u001b[0;32mfor\u001b[0m \u001b[0mk\u001b[0m\u001b[0;34m,\u001b[0m \u001b[0mv\u001b[0m \u001b[0;32min\u001b[0m \u001b[0my\u001b[0m\u001b[0;34m.\u001b[0m\u001b[0mitems\u001b[0m\u001b[0;34m(\u001b[0m\u001b[0;34m)\u001b[0m \u001b[0;32mif\u001b[0m \u001b[0mv\u001b[0m\u001b[0;34m.\u001b[0m\u001b[0mx\u001b[0m \u001b[0;34m>\u001b[0m \u001b[0;36m0\u001b[0m\u001b[0;34m}\u001b[0m\u001b[0;34m\u001b[0m\u001b[0;34m\u001b[0m\u001b[0m\n\u001b[1;32m     35\u001b[0m \u001b[0;34m\u001b[0m\u001b[0m\n\u001b[0;32m---> 36\u001b[0;31m \u001b[0mbin_packing_frac_balanced\u001b[0m\u001b[0;34m(\u001b[0m\u001b[0;34m{\u001b[0m\u001b[0;34m\"a\"\u001b[0m\u001b[0;34m,\u001b[0m \u001b[0;34m\"b\"\u001b[0m\u001b[0;34m,\u001b[0m \u001b[0;34m\"c\"\u001b[0m\u001b[0;34m}\u001b[0m\u001b[0;34m,\u001b[0m \u001b[0mrange\u001b[0m\u001b[0;34m(\u001b[0m\u001b[0;36m30\u001b[0m\u001b[0;34m)\u001b[0m\u001b[0;34m,\u001b[0m \u001b[0;36m15\u001b[0m\u001b[0;34m,\u001b[0m \u001b[0;34m{\u001b[0m\u001b[0;34m\"a\"\u001b[0m\u001b[0;34m:\u001b[0m \u001b[0;36m33\u001b[0m\u001b[0;34m,\u001b[0m \u001b[0;34m\"b\"\u001b[0m\u001b[0;34m:\u001b[0m \u001b[0;36m4\u001b[0m\u001b[0;34m,\u001b[0m \u001b[0;34m\"c\"\u001b[0m\u001b[0;34m:\u001b[0m \u001b[0;36m4\u001b[0m\u001b[0;34m}\u001b[0m\u001b[0;34m,\u001b[0m \u001b[0;36m2\u001b[0m\u001b[0;34m)\u001b[0m\u001b[0;34m\u001b[0m\u001b[0;34m\u001b[0m\u001b[0m\n\u001b[0m",
      "\u001b[0;32m<ipython-input-3-3743f61235bc>\u001b[0m in \u001b[0;36mbin_packing_frac_balanced\u001b[0;34m(A, B, c, sizes, k)\u001b[0m\n\u001b[1;32m      2\u001b[0m     \u001b[0;31m# c capacity of all the bins\u001b[0m\u001b[0;34m\u001b[0m\u001b[0;34m\u001b[0m\u001b[0;34m\u001b[0m\u001b[0m\n\u001b[1;32m      3\u001b[0m \u001b[0;34m\u001b[0m\u001b[0m\n\u001b[0;32m----> 4\u001b[0;31m     \u001b[0mmodel\u001b[0m \u001b[0;34m=\u001b[0m \u001b[0mmip\u001b[0m\u001b[0;34m.\u001b[0m\u001b[0mModel\u001b[0m\u001b[0;34m(\u001b[0m\u001b[0;34m)\u001b[0m\u001b[0;34m\u001b[0m\u001b[0;34m\u001b[0m\u001b[0m\n\u001b[0m\u001b[1;32m      5\u001b[0m \u001b[0;34m\u001b[0m\u001b[0m\n\u001b[1;32m      6\u001b[0m     \u001b[0mx\u001b[0m \u001b[0;34m=\u001b[0m \u001b[0;34m{\u001b[0m\u001b[0;34m(\u001b[0m\u001b[0ma\u001b[0m\u001b[0;34m,\u001b[0m \u001b[0mb\u001b[0m\u001b[0;34m)\u001b[0m\u001b[0;34m:\u001b[0m \u001b[0mmodel\u001b[0m\u001b[0;34m.\u001b[0m\u001b[0madd_var\u001b[0m\u001b[0;34m(\u001b[0m\u001b[0;34mf\"x_{a}_{b}\"\u001b[0m\u001b[0;34m,\u001b[0m \u001b[0mobj\u001b[0m\u001b[0;34m=\u001b[0m\u001b[0;36m0\u001b[0m\u001b[0;34m,\u001b[0m \u001b[0mvar_type\u001b[0m\u001b[0;34m=\u001b[0m\u001b[0mmip\u001b[0m\u001b[0;34m.\u001b[0m\u001b[0mBINARY\u001b[0m\u001b[0;34m)\u001b[0m \u001b[0;32mfor\u001b[0m \u001b[0ma\u001b[0m\u001b[0;34m,\u001b[0m \u001b[0mb\u001b[0m \u001b[0;32min\u001b[0m \u001b[0mproduct\u001b[0m\u001b[0;34m(\u001b[0m\u001b[0mA\u001b[0m\u001b[0;34m,\u001b[0m \u001b[0mB\u001b[0m\u001b[0;34m)\u001b[0m\u001b[0;34m}\u001b[0m\u001b[0;34m\u001b[0m\u001b[0;34m\u001b[0m\u001b[0m\n",
      "\u001b[0;32m/nix/store/n2n87v1mp8y6ak9jfszyy9aacyy45jb6-python3.8-mip-1.13.0/lib/python3.8/site-packages/mip/model.py\u001b[0m in \u001b[0;36m__init__\u001b[0;34m(self, name, sense, solver_name, solver)\u001b[0m\n\u001b[1;32m     93\u001b[0m                 \u001b[0;32mif\u001b[0m \u001b[0mmip\u001b[0m\u001b[0;34m.\u001b[0m\u001b[0mgurobi\u001b[0m\u001b[0;34m.\u001b[0m\u001b[0mfound\u001b[0m\u001b[0;34m:\u001b[0m\u001b[0;34m\u001b[0m\u001b[0;34m\u001b[0m\u001b[0m\n\u001b[1;32m     94\u001b[0m \u001b[0;34m\u001b[0m\u001b[0m\n\u001b[0;32m---> 95\u001b[0;31m                     \u001b[0mself\u001b[0m\u001b[0;34m.\u001b[0m\u001b[0msolver\u001b[0m \u001b[0;34m=\u001b[0m \u001b[0mmip\u001b[0m\u001b[0;34m.\u001b[0m\u001b[0mgurobi\u001b[0m\u001b[0;34m.\u001b[0m\u001b[0mSolverGurobi\u001b[0m\u001b[0;34m(\u001b[0m\u001b[0mself\u001b[0m\u001b[0;34m,\u001b[0m \u001b[0mname\u001b[0m\u001b[0;34m,\u001b[0m \u001b[0msense\u001b[0m\u001b[0;34m)\u001b[0m\u001b[0;34m\u001b[0m\u001b[0;34m\u001b[0m\u001b[0m\n\u001b[0m\u001b[1;32m     96\u001b[0m                     \u001b[0mself\u001b[0m\u001b[0;34m.\u001b[0m\u001b[0msolver_name\u001b[0m \u001b[0;34m=\u001b[0m \u001b[0mmip\u001b[0m\u001b[0;34m.\u001b[0m\u001b[0mGUROBI\u001b[0m\u001b[0;34m\u001b[0m\u001b[0;34m\u001b[0m\u001b[0m\n\u001b[1;32m     97\u001b[0m                 \u001b[0;32melse\u001b[0m\u001b[0;34m:\u001b[0m\u001b[0;34m\u001b[0m\u001b[0;34m\u001b[0m\u001b[0m\n",
      "\u001b[0;32m/nix/store/n2n87v1mp8y6ak9jfszyy9aacyy45jb6-python3.8-mip-1.13.0/lib/python3.8/site-packages/mip/gurobi.py\u001b[0m in \u001b[0;36m__init__\u001b[0;34m(self, model, name, sense, modelp)\u001b[0m\n\u001b[1;32m    354\u001b[0m             \u001b[0mst\u001b[0m \u001b[0;34m=\u001b[0m \u001b[0mGRBloadenv\u001b[0m\u001b[0;34m(\u001b[0m\u001b[0mself\u001b[0m\u001b[0;34m.\u001b[0m\u001b[0m_env\u001b[0m\u001b[0;34m,\u001b[0m \u001b[0;34m\"\"\u001b[0m\u001b[0;34m.\u001b[0m\u001b[0mencode\u001b[0m\u001b[0;34m(\u001b[0m\u001b[0;34m\"utf-8\"\u001b[0m\u001b[0;34m)\u001b[0m\u001b[0;34m)\u001b[0m\u001b[0;34m\u001b[0m\u001b[0;34m\u001b[0m\u001b[0m\n\u001b[1;32m    355\u001b[0m             \u001b[0;32mif\u001b[0m \u001b[0mst\u001b[0m \u001b[0;34m!=\u001b[0m \u001b[0;36m0\u001b[0m\u001b[0;34m:\u001b[0m\u001b[0;34m\u001b[0m\u001b[0;34m\u001b[0m\u001b[0m\n\u001b[0;32m--> 356\u001b[0;31m                 raise InterfacingError(\n\u001b[0m\u001b[1;32m    357\u001b[0m                     \u001b[0;34m\"Gurobi environment could not be loaded, check your license.\"\u001b[0m\u001b[0;34m\u001b[0m\u001b[0;34m\u001b[0m\u001b[0m\n\u001b[1;32m    358\u001b[0m                 )\n",
      "\u001b[0;31mInterfacingError\u001b[0m: Gurobi environment could not be loaded, check your license."
     ]
    }
   ],
   "source": [
    "def bin_packing_frac_balanced(A, B, c, sizes, k):\n",
    "    # c capacity of all the bins\n",
    "    \n",
    "    model = mip.Model()\n",
    "    \n",
    "    x = {(a, b): model.add_var(f\"x_{a}_{b}\", obj=0, var_type=mip.BINARY) for a, b in product(A, B)}\n",
    "    y = {b: model.add_var(f\"y_{b}\", obj=1, var_type=mip.BINARY) for b in B}\n",
    "    \n",
    "    lambd = {(a, b): model.add_var(f\"lambda_{a}_{b}\", obj=0, lb=0, ub=1, var_type=mip.CONTINUOUS) for a, b in product(A, B)}\n",
    "    alpha = {b: model.add_var(f\"alpha_{b}\", obj=0, lb=0, ub=1, var_type=mip.CONTINUOUS) for b in B}\n",
    "    \n",
    "    for b in B:\n",
    "        model.add_constr(mip.quicksum(sizes[a] * lambd[a, b] for a in A) <= c * y[b])\n",
    "    \n",
    "    for a in A:\n",
    "        model.add_constr(mip.quicksum(lambd[a, b] for b in B) == 1)\n",
    "    \n",
    "    for a, b in product(A, B):\n",
    "\n",
    "        # non-linear constraint `model.add_constr(lambd[a, b] == alpha[b] * x[a, b])` is remplaced by:\n",
    "        model.add_constr(lambd[a, b] <= x[a, b])\n",
    "        model.add_constr(lambd[a, b] <= alpha[b])\n",
    "        model.add_constr(lambd[a, b] + 1 >= alpha[b] + x[a, b])\n",
    "    \n",
    "    for b in B:\n",
    "        model.add_constr(mip.quicksum(x[a, b] for a in A) <= k)\n",
    "    \n",
    "    \n",
    "    \n",
    "    model.optimize()\n",
    "    \n",
    "    print(model.status)\n",
    "    \n",
    "    return {k for k, v in x.items() if v.x > 0}, {k for k, v in y.items() if v.x > 0}\n",
    "\n",
    "bin_packing_frac_balanced({\"a\", \"b\", \"c\"}, range(30), 15, {\"a\": 33, \"b\": 4, \"c\": 4}, 2)\n"
   ]
  },
  {
   "cell_type": "markdown",
   "id": "3aede448-0fc6-4f27-8e78-905ce147e1d6",
   "metadata": {},
   "source": [
    "# Balanced bin packing\n",
    "\n",
    "Every input can be split at most k times to fit the bins."
   ]
  },
  {
   "cell_type": "code",
   "execution_count": 52,
   "id": "9e616d5b-780d-4b52-ac55-3fe778abd875",
   "metadata": {},
   "outputs": [
    {
     "name": "stdout",
     "output_type": "stream",
     "text": [
      "OptimizationStatus.OPTIMAL\n",
      "OptimizationStatus.OPTIMAL\n"
     ]
    },
    {
     "data": {
      "text/plain": [
       "({('a', 0), ('a', 2), ('b', 1), ('c', 0), ('c', 2)}, {0, 1, 2})"
      ]
     },
     "execution_count": 52,
     "metadata": {},
     "output_type": "execute_result"
    }
   ],
   "source": [
    "def bin_packing_frac_balanced(A, B, k):\n",
    "    # c capacity of all the bins\n",
    "    \n",
    "    model = mip.Model()\n",
    "    \n",
    "    x = {(a, b): model.add_var(f\"x_{a}_{b}\", obj=1, var_type=mip.BINARY) for a, b in product(A, B)}\n",
    "    y = {b: model.add_var(f\"y_{b}\", obj=1000, var_type=mip.BINARY) for b in B}\n",
    "    \n",
    "    lambd = {(a, b): model.add_var(f\"lambda_{a}_{b}\", obj=0, lb=0, ub=1, var_type=mip.CONTINUOUS) for a, b in product(A, B)}\n",
    "    alpha = {b: model.add_var(f\"alpha_{b}\", obj=0, lb=0, ub=1, var_type=mip.CONTINUOUS) for b in B}\n",
    "    \n",
    "    for b in B:\n",
    "        model.add_constr(mip.quicksum(A[a] * lambd[a, b] for a in A) <= B[b] * y[b])\n",
    "    \n",
    "    for a in A:\n",
    "        model.add_constr(mip.quicksum(lambd[a, b] for b in B) == 1)\n",
    "    \n",
    "    for a, b in product(A, B):\n",
    "\n",
    "        # non-linear constraint `model.add_constr(lambd[a, b] == alpha[b] * x[a, b])` is remplaced by:\n",
    "        model.add_constr(lambd[a, b] <= x[a, b])\n",
    "        model.add_constr(lambd[a, b] <= alpha[b])\n",
    "        model.add_constr(lambd[a, b] + 1 >= alpha[b] + x[a, b])\n",
    "    \n",
    "    for b in B:\n",
    "        model.add_constr(mip.quicksum(x[a, b] for a in A) <= k)\n",
    "\n",
    "    model.optimize()\n",
    "    \n",
    "    print(model.status)\n",
    "    \n",
    "    return {k for k, v in x.items() if v.x > 0}, {k for k, v in y.items() if v.x > 0}\n",
    "\n",
    "\n",
    "_, l = bin_packing_frac_balanced({\"a\": 15, \"b\": 15, \"c\": 15}, {i: 15 for i in range(10)}, 2)\n",
    "bin_packing_frac_balanced({\"a\": 20, \"b\": 15, \"c\": 5}, {i: 15 for i in range(len(l))}, 2)\n",
    "\n"
   ]
  },
  {
   "cell_type": "code",
   "execution_count": null,
   "id": "508a0e07-92b3-4867-aa85-15859164183f",
   "metadata": {},
   "outputs": [],
   "source": [
    "def bin_packing_frac_balanced_2steps(A, B, C, k):\n",
    "    # c capacity of all the bins\n",
    "    \n",
    "    model = mip.Model()\n",
    "    \n",
    "    x1 = {(a, b): model.add_var(f\"x1_{a}_{b}\", obj=1, var_type=mip.BINARY) for a, b in product(A, B)}\n",
    "    x2 = {(b, c): model.add_var(f\"x2_{b}_{c}\", obj=1, var_type=mip.BINARY) for b, c in product(B, C)}\n",
    "    y = {b: model.add_var(f\"y_{b}\", obj=1000, var_type=mip.BINARY) for b in B}\n",
    "    \n",
    "    lambd1 = {(a, b): model.add_var(f\"lambda1_{a}_{b}\", obj=0, lb=0, ub=1, var_type=mip.CONTINUOUS) for a, b in product(A, B)}\n",
    "    lambd2 = {(b, c): model.add_var(f\"lambda2_{b}_{c}\", obj=0, lb=0, ub=1, var_type=mip.CONTINUOUS) for b, c in product(B, C)}\n",
    "    alpha1 = {b: model.add_var(f\"alpha1_{b}\", obj=0, lb=0, ub=1, var_type=mip.CONTINUOUS) for b in B}\n",
    "    alpha2 = {b: model.add_var(f\"alpha2_{b}\", obj=0, lb=0, ub=1, var_type=mip.CONTINUOUS) for b in B}\n",
    "    \n",
    "    for b in B:\n",
    "        model.add_constr(mip.quicksum(A[a] * lambd1[a, b] for a in A) <= B[b] * y[b])\n",
    "        model.add_constr(mip.quicksum(C[c] * lambd2[b, c] for c in C) <= B[b] * y[b])\n",
    "        \n",
    "        # flow constraint: model may become infeasable.\n",
    "        model.add_constr(mip.quicksum(C[c] * lambd2[b, c] for c in C) == mip.quicksum(A[a] * lambd1[a, b] for a in A))\n",
    "    \n",
    "    for a in A:\n",
    "        model.add_constr(mip.quicksum(lambd[a, b] for b in B) == 1)\n",
    "    \n",
    "    for a, b in product(A, B):\n",
    "\n",
    "        # non-linear constraint `model.add_constr(lambd[a, b] == alpha[b] * x[a, b])` is remplaced by:\n",
    "        model.add_constr(lambd[a, b] <= x[a, b])\n",
    "        model.add_constr(lambd[a, b] <= alpha[b])\n",
    "        model.add_constr(lambd[a, b] + 1 >= alpha[b] + x[a, b])\n",
    "    \n",
    "    for b in B:\n",
    "        model.add_constr(mip.quicksum(x[a, b] for a in A) <= k)\n",
    "\n",
    "    model.optimize()\n",
    "    \n",
    "    print(model.status)\n",
    "    \n",
    "    return {k for k, v in x.items() if v.x > 0}, {k for k, v in y.items() if v.x > 0}\n"
   ]
  }
 ],
 "metadata": {
  "kernelspec": {
   "display_name": "Python 3",
   "language": "python",
   "name": "python3"
  },
  "language_info": {
   "codemirror_mode": {
    "name": "ipython",
    "version": 3
   },
   "file_extension": ".py",
   "mimetype": "text/x-python",
   "name": "python",
   "nbconvert_exporter": "python",
   "pygments_lexer": "ipython3",
   "version": "3.8.11"
  }
 },
 "nbformat": 4,
 "nbformat_minor": 5
}
