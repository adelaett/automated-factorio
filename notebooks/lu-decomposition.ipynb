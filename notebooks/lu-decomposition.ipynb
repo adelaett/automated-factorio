{
 "cells": [
  {
   "cell_type": "code",
   "execution_count": 6,
   "metadata": {},
   "outputs": [
    {
     "data": {
      "text/plain": [
       "(1000, 900)"
      ]
     },
     "execution_count": 6,
     "metadata": {},
     "output_type": "execute_result"
    }
   ],
   "source": [
    "import scipy.linalg\n",
    "import sklearn.datasets\n",
    "import numpy as np\n",
    "\n",
    "def pid(n, m, r):\n",
    "    \"\"\"Partial identity function.\"\"\"\n",
    "    # pid n m r: 'M_(m, n) := \\matrix_(i, j) ((i == j :> nat) && (i < r))%:R.\n",
    "    return np.fromfunction(lambda i, j: i == j and i < r, shape=(n, m))\n",
    "\n",
    "def copid(n, r):\n",
    "    return np.eye(n) - pid(n, n, r)\n",
    "\n",
    "\n",
    "A = sklearn.datasets.make_low_rank_matrix(1000, 100).T\n",
    "\n",
    "\n",
    "scipy.linalg.null_space(A).shape\n",
    "\n"
   ]
  },
  {
   "cell_type": "code",
   "execution_count": null,
   "metadata": {},
   "outputs": [],
   "source": []
  }
 ],
 "metadata": {
  "kernelspec": {
   "display_name": "Python 3",
   "language": "python",
   "name": "python3"
  },
  "language_info": {
   "codemirror_mode": {
    "name": "ipython",
    "version": 3
   },
   "file_extension": ".py",
   "mimetype": "text/x-python",
   "name": "python",
   "nbconvert_exporter": "python",
   "pygments_lexer": "ipython3",
   "version": "3.10.10"
  },
  "orig_nbformat": 4
 },
 "nbformat": 4,
 "nbformat_minor": 2
}
