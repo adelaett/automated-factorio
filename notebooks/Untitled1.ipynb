{
 "cells": [
  {
   "cell_type": "code",
   "execution_count": 1,
   "id": "736f0223-8f89-4f60-80f2-42a8ae66b827",
   "metadata": {},
   "outputs": [
    {
     "ename": "ModuleNotFoundError",
     "evalue": "No module named 'mip'",
     "output_type": "error",
     "traceback": [
      "\u001b[0;31m---------------------------------------------------------------------------\u001b[0m",
      "\u001b[0;31mModuleNotFoundError\u001b[0m                       Traceback (most recent call last)",
      "Input \u001b[0;32mIn [1]\u001b[0m, in \u001b[0;36m<cell line: 4>\u001b[0;34m()\u001b[0m\n\u001b[1;32m      1\u001b[0m \u001b[38;5;28;01mfrom\u001b[39;00m \u001b[38;5;21;01mcollections\u001b[39;00m \u001b[38;5;28;01mimport\u001b[39;00m defaultdict\n\u001b[1;32m      2\u001b[0m \u001b[38;5;28;01mimport\u001b[39;00m \u001b[38;5;21;01mrandom\u001b[39;00m\n\u001b[0;32m----> 4\u001b[0m \u001b[38;5;28;01mimport\u001b[39;00m \u001b[38;5;21;01mmip\u001b[39;00m\n\u001b[1;32m      5\u001b[0m \u001b[38;5;28;01mimport\u001b[39;00m \u001b[38;5;21;01mjson\u001b[39;00m\n\u001b[1;32m      6\u001b[0m \u001b[38;5;28;01mimport\u001b[39;00m \u001b[38;5;21;01mnetworkx\u001b[39;00m \u001b[38;5;28;01mas\u001b[39;00m \u001b[38;5;21;01mnx\u001b[39;00m\n",
      "\u001b[0;31mModuleNotFoundError\u001b[0m: No module named 'mip'"
     ]
    }
   ],
   "source": [
    "from collections import defaultdict\n",
    "import random\n",
    "\n",
    "import mip\n",
    "import json\n",
    "import networkx as nx"
   ]
  },
  {
   "cell_type": "code",
   "execution_count": 3,
   "id": "e796f15d-23be-4b09-b03a-4e106dc23250",
   "metadata": {},
   "outputs": [],
   "source": [
    "def multicommodity_flow(g, h, u, b):\n",
    "    \n",
    "    model = mip.Model()\n",
    "    \n",
    "    flow = {(f, e): model.add_var(f\"flow-{f}-{e}\", lb=0, obj=1) for e in set(g.edges()) for f in h.edges()}\n",
    "\n",
    "    for e in g.edges():\n",
    "        model.add_constr(mip.quicksum(flow[f, e] for f in h.edges()) <= u[e])\n",
    "\n",
    "    for f in h.edges():\n",
    "        (s, t) = f\n",
    "        \n",
    "        for v in g.nodes():\n",
    "            model.add_constr(\n",
    "                  mip.quicksum(flow[f, e] for e in set(g.out_edges(v)))\n",
    "                - mip.quicksum(flow[f, e] for e in set(g.in_edges(v)))\n",
    "                == (1 if v == s else 0) * b[f] + (-1 if v == t else 0) * b[f])\n",
    "    \n",
    "    model.optimize()\n",
    "    \n",
    "    \n",
    "    \n",
    "    return model.status, {k: v.x for k, v in flow.items() if v.x is not None and v.x > 0}\n"
   ]
  },
  {
   "cell_type": "code",
   "execution_count": null,
   "id": "31ea1645-14a8-480b-a46d-be1856c495aa",
   "metadata": {},
   "outputs": [],
   "source": []
  }
 ],
 "metadata": {
  "kernelspec": {
   "display_name": "Python 3 (ipykernel)",
   "language": "python",
   "name": "python3"
  },
  "language_info": {
   "codemirror_mode": {
    "name": "ipython",
    "version": 3
   },
   "file_extension": ".py",
   "mimetype": "text/x-python",
   "name": "python",
   "nbconvert_exporter": "python",
   "pygments_lexer": "ipython3",
   "version": "3.9.11"
  }
 },
 "nbformat": 4,
 "nbformat_minor": 5
}
