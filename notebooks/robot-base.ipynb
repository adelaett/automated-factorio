{
 "cells": [
  {
   "cell_type": "code",
   "execution_count": 1,
   "metadata": {},
   "outputs": [
    {
     "name": "stdout",
     "output_type": "stream",
     "text": [
      "dict_keys(['assemblers', 'items', 'miners', 'modules', 'recipes', 'resources', 'versions'])\n"
     ]
    }
   ],
   "source": [
    "import fio.database\n",
    "import mip\n",
    "\n",
    "db = fio.database.load_db(\"data/krastorio2.json\")\n",
    "\n",
    "print(db.keys())"
   ]
  },
  {
   "cell_type": "code",
   "execution_count": 2,
   "metadata": {},
   "outputs": [],
   "source": [
    "import functools\n",
    "\n",
    "@functools.lru_cache(64)\n",
    "def get_assembly_machines(category, craftable_only=True):\n",
    "  ms = []\n",
    "\n",
    "  for m in db.assemblers.find(f\"\"\".[] | select(.crafting_categories | contains([\"{category}\"]))\"\"\"):\n",
    "    ms.append(m)\n",
    "\n",
    "  return ms\n",
    "\n",
    "recipes = fio.database.HyperDiGraph()\n",
    "\n",
    "ignore_machines = []\n",
    "\n",
    "for r in db.recipes.find(\".[]\"):\n",
    "    for m in get_assembly_machines(r['category']):\n",
    "\n",
    "        if m[\"name\"] in ignore_machines:\n",
    "            continue\n",
    "\n",
    "        A = {i[\"name\"] for i in r[\"ingredients\"]}\n",
    "        B = {p[\"name\"] for p in r[\"products\"]}\n",
    "        recipes.add_edge(A, B, {\"recipe\": r, \"machine\": m, \"name\": f\"{r['name']}#{m['name']}\"})\n"
   ]
  },
  {
   "cell_type": "code",
   "execution_count": 3,
   "metadata": {},
   "outputs": [
    {
     "data": {
      "text/plain": [
       "defaultdict(set,\n",
       "            {('assemblers', 'allowed_effects', 'consumption'): {bool},\n",
       "             ('assemblers', 'allowed_effects', 'pollution'): {bool},\n",
       "             ('assemblers', 'allowed_effects', 'productivity'): {bool},\n",
       "             ('assemblers', 'allowed_effects', 'speed'): {bool},\n",
       "             ('assemblers', 'crafting_categories'): {str},\n",
       "             ('assemblers', 'crafting_speed'): {float, int},\n",
       "             ('assemblers', 'ingredient_count'): {int},\n",
       "             ('assemblers', 'module_inventory_size'): {int},\n",
       "             ('assemblers', 'name'): {str},\n",
       "             ('items', 'name'): {str},\n",
       "             ('items', 'stack_size'): {int},\n",
       "             ('items', 'type'): {str},\n",
       "             ('miners', 'allowed_effects', 'consumption'): {bool},\n",
       "             ('miners', 'allowed_effects', 'pollution'): {bool},\n",
       "             ('miners', 'allowed_effects', 'productivity'): {bool},\n",
       "             ('miners', 'allowed_effects', 'speed'): {bool},\n",
       "             ('miners', 'mining_speed'): {float, int},\n",
       "             ('miners', 'name'): {str},\n",
       "             ('miners', 'resource_categories'): {str},\n",
       "             ('modules', 'category'): {str},\n",
       "             ('modules', 'module_effects', 'consumption'): {float},\n",
       "             ('modules', 'name'): {str},\n",
       "             ('modules', 'tier'): {int},\n",
       "             ('modules', 'limitations'): {str},\n",
       "             ('modules', 'module_effects', 'pollution'): {float},\n",
       "             ('modules', 'module_effects', 'productivity'): {float},\n",
       "             ('modules', 'module_effects', 'speed'): {float},\n",
       "             ('recipes', 'category'): {str},\n",
       "             ('recipes', 'energy'): {float, int},\n",
       "             ('recipes', 'ingredients', 'amount'): {int},\n",
       "             ('recipes', 'ingredients', 'name'): {str},\n",
       "             ('recipes', 'ingredients', 'type'): {str},\n",
       "             ('recipes', 'name'): {str},\n",
       "             ('recipes', 'products', 'amount'): {int},\n",
       "             ('recipes', 'products', 'name'): {str},\n",
       "             ('recipes', 'products', 'type'): {str},\n",
       "             ('recipes', 'ingredients', 'fluidbox_index'): {int},\n",
       "             ('recipes', 'ingredients', 'catalyst_amount'): {int},\n",
       "             ('resources', 'infinite'): {bool},\n",
       "             ('resources', 'minimum'): {int},\n",
       "             ('resources', 'mining_time'): {int},\n",
       "             ('resources', 'name'): {str},\n",
       "             ('resources', 'products', 'amount'): {int},\n",
       "             ('resources', 'products', 'name'): {str},\n",
       "             ('resources', 'products', 'type'): {str},\n",
       "             ('resources', 'resource_category'): {str},\n",
       "             ('resources', 'required_fluid', 'amount'): {int},\n",
       "             ('resources', 'required_fluid', 'name'): {str},\n",
       "             ('resources', 'required_fluid', 'type'): {str},\n",
       "             ('versions', 'ExportData'): {str},\n",
       "             ('versions', 'base'): {str}})"
      ]
     },
     "execution_count": 3,
     "metadata": {},
     "output_type": "execute_result"
    }
   ],
   "source": [
    "import json\n",
    "from collections import defaultdict\n",
    "\n",
    "# Load a sample JSON file\n",
    "with open('data/base.json', 'r') as json_file:\n",
    "    data = json.load(json_file)\n",
    "\n",
    "\n",
    "\n",
    "# Analyze the JSON data\n",
    "def analyze_json(json_data, output=None, parent_key=[]):\n",
    "    if output is None:\n",
    "        output = defaultdict(set)\n",
    "    if isinstance(json_data, dict):\n",
    "        for key, value in json_data.items():\n",
    "            new_key = parent_key + [key]\n",
    "            analyze_json(value, output, parent_key=new_key)\n",
    "    elif isinstance(json_data, list):\n",
    "        for item in json_data:\n",
    "            analyze_json(item, output, parent_key=parent_key)\n",
    "    else:\n",
    "        output[tuple(parent_key)].add(type(json_data))\n",
    "    \n",
    "    return output\n",
    "\n",
    "# Call the analyze_json function on the JSON data\n",
    "analyze_json(data)"
   ]
  },
  {
   "cell_type": "code",
   "execution_count": 22,
   "metadata": {},
   "outputs": [
    {
     "name": "stdout",
     "output_type": "stream",
     "text": [
      "{'water': inf, 'coal': inf, 'copper-ore': inf, 'crude-oil': inf, 'iron-ore': inf, 'stone': inf, 'uranium-ore': inf}\n",
      "Orbit 0:  5 6\n",
      "Orbit 1:  11 23\n",
      "Orbit 2:  12 24\n",
      "Orbit 3:  25 37\n",
      "Orbit 4:  26 38\n",
      "Orbit 5:  43 44\n",
      "Orbit 6:  48 49\n",
      "Orbit 7:  58 59\n",
      "Orbit 8:  64 76\n",
      "Orbit 9:  65 77\n",
      "Orbit 10:  78 90\n",
      "Orbit 11:  79 91\n",
      "Orbit 12:  96 97\n",
      "Orbit 13:  101 102\n",
      "OptimizationStatus.OPTIMAL\n"
     ]
    }
   ],
   "source": [
    "import fio.flow\n",
    "\n",
    "\n",
    "source = dict(water=float(\"inf\"), **{resource: float(\"+inf\") for resource in db.resources.query(\"map(.products[].name) | unique\")})\n",
    "\n",
    "target = {\n",
    "    k: 1 for k in {\n",
    "        # 'basic-tech-card',\n",
    "        'advanced-tech-card',\n",
    "        'automation-science-pack',\n",
    "        # 'biters-research-data',\n",
    "        'chemical-science-pack',\n",
    "        'logistic-science-pack',\n",
    "        'production-science-pack',\n",
    "        'utility-science-pack',\n",
    "        # 'matter-research-data',\n",
    "        # 'matter-tech-card',\n",
    "        # 'military-science-pack',\n",
    "        # 'singularity-tech-card',\n",
    "        # \"utility-science-pack\"\n",
    "    }\n",
    "}\n",
    "\n",
    "print(source)\n",
    "\n",
    "model = fio.flow.optimize_model(recipes, dict(**source, **{k: -v for k, v in target.items()}))\n",
    "\n",
    "print(model[\"status\"])\n",
    "# model = build_detailed_graph(model)"
   ]
  },
  {
   "cell_type": "code",
   "execution_count": 5,
   "metadata": {},
   "outputs": [
    {
     "data": {
      "text/plain": [
       "defaultdict(int, {'assembling-machine-3': 5, 'electric-furnace': 6})"
      ]
     },
     "execution_count": 5,
     "metadata": {},
     "output_type": "execute_result"
    }
   ],
   "source": [
    "\n",
    "from collections import defaultdict, namedtuple\n",
    "\n",
    "inputs = defaultdict(float)\n",
    "outputs = defaultdict(float)\n",
    "c = defaultdict(int)\n",
    "\n",
    "\n",
    "flows = []\n",
    "i = 0\n",
    "\n",
    "\n",
    "from uuid import uuid4\n",
    "\n",
    "Cell = namedtuple(\"Cell\", [\"id\", \"recipe\", \"machine\", \"intergral\", \"fractional\"])\n",
    "\n",
    "class unique:\n",
    "  def __init__(self):\n",
    "    self.c = defaultdict(int)\n",
    "  def __call__(self, i):\n",
    "    r = self.c[i]\n",
    "    self.c[i] += 1\n",
    "    return f\"id_{i}_{r}\"\n",
    "\n",
    "unique_id = unique()\n",
    "\n",
    "import networkx as nx\n",
    "graph = nx.DiGraph()\n",
    "\n",
    "per_rows = 4\n",
    "for r, m, k, f in [tuple(k.split(\"#\") + list(v)) for k, v in model[\"flow\"].items()]:\n",
    "    c[m] += k\n",
    "\n",
    "    r = db.recipes.query(f\"\"\"map( select(.name == \"{r}\"))\"\"\")[0]\n",
    "\n",
    "    m1 = db.assemblers.query(f\"\"\"map( select(.name == \"{m}\")) \"\"\")\n",
    "    # m2 = db.furnace.query(f\"\"\"map( select(.name == \"{m}\")) \"\"\")\n",
    "    m = (m1)[0]\n",
    "\n",
    "    for _ in range(k-1):\n",
    "      i = unique_id(r[\"name\"])\n",
    "      flows.append(Cell(i, r, m, 1, 1))\n",
    "      graph.add_node(i, kind=\"transformator\", recipe=r, machine=m, k=1, f=1)\n",
    "\n",
    "    assert f-k+1 > 0\n",
    "    i = unique_id(r[\"name\"])\n",
    "    flows.append(Cell(i, r, m, 1, f-k+1))\n",
    "    graph.add_node(i, kind=\"transformator\", recipe=r, machine=m, k=1, f=f-k+1)\n",
    "\n",
    "c"
   ]
  },
  {
   "attachments": {},
   "cell_type": "markdown",
   "metadata": {},
   "source": [
    "# Second step.\n",
    "\n",
    "\n",
    "We now need to know how many machines are needed for which exchange. To do so, we build an other linear program, with pack bins everywhere.\n",
    "\n",
    "\n",
    "\n",
    "\n",
    "# Bin packing\n",
    "\n",
    "Inputs:\n",
    "* $v[j]$ output flow required\n",
    "* $u[i]$ input flow required\n",
    "\n",
    "Variables:\n",
    "* $x[i, j]$ real between 0 and 1, indicate the flow from $i$ to j$\n",
    "* $y[i, j]$ boolean indicate if the edge from $i$ to $j$\n",
    "\n",
    "Minimize $\\displaystyle \\sum_{i, j} y[i, j]$\n",
    "Subject:\n",
    "* $\\displaystyle \\forall i j, x[i, j] \\leq y[i, j]$\n",
    "* $\\displaystyle \\forall i, \\sum_j x[i, j] = u_i$\n",
    "* $\\displaystyle \\forall j, \\sum_i x[i, j] = v_j$\n",
    "\n",
    "\n"
   ]
  },
  {
   "cell_type": "code",
   "execution_count": 6,
   "metadata": {},
   "outputs": [
    {
     "name": "stdout",
     "output_type": "stream",
     "text": [
      "[{'amount': 1, 'name': 'automation-science-pack', 'type': 'item'}]\n",
      "[{'amount': 1, 'name': 'automation-science-pack', 'type': 'item'}]\n",
      "[{'amount': 1, 'name': 'automation-science-pack', 'type': 'item'}]\n",
      "[{'amount': 1, 'name': 'automation-science-pack', 'type': 'item'}]\n",
      "[{'amount': 1, 'name': 'copper-plate', 'type': 'item'}]\n",
      "[{'amount': 1, 'name': 'copper-plate', 'type': 'item'}]\n",
      "[{'amount': 1, 'name': 'iron-gear-wheel', 'type': 'item'}]\n",
      "[{'amount': 1, 'name': 'iron-plate', 'type': 'item'}]\n",
      "[{'amount': 1, 'name': 'iron-plate', 'type': 'item'}]\n",
      "[{'amount': 1, 'name': 'iron-plate', 'type': 'item'}]\n",
      "[{'amount': 1, 'name': 'iron-plate', 'type': 'item'}]\n"
     ]
    }
   ],
   "source": [
    "import fio.binpacking\n",
    "import fio.flow\n",
    "from fractions import Fraction\n",
    "\n",
    "items = set()\n",
    "\n",
    "flow_in = defaultdict(list)\n",
    "flow_out = defaultdict(list)\n",
    "for f in flows:\n",
    "\n",
    "  ing = {k: v*f.fractional for k, v in fio.flow.ingredients_coefs(f.recipe, f.machine).items()}\n",
    "  pro = {k: v*f.fractional for k, v in fio.flow.products_coefs(f.recipe, f.machine).items()}\n",
    "\n",
    "  for i, q in ing.items():\n",
    "    q = Fraction(q).limit_denominator()\n",
    "    assert q >= 0\n",
    "    flow_in[i].append((f.id, q))\n",
    "  for i, q in pro.items():\n",
    "    q = Fraction(q).limit_denominator()\n",
    "    assert q >= 0\n",
    "    flow_out[i].append((f.id, q))\n",
    "\n",
    "\n",
    "for i in set(flow_in.keys()) | set(flow_out.keys()):\n",
    "  a = sum(q for _, q in flow_in[i])\n",
    "  b = sum(q for _, q in flow_out[i])\n",
    "  if a > b:\n",
    "    j = unique_id(\"sink\")\n",
    "    graph.add_node(j, kind=\"sink\")\n",
    "    flow_out[i].append(((j), a - b))\n",
    "  elif b > a:\n",
    "    j = unique_id(\"source\")\n",
    "    graph.add_node(j, kind=\"source\")\n",
    "    flow_in[i].append(((j), b - a))\n",
    "\n",
    "\n",
    "assert set(flow_in.keys()) == set(flow_out.keys())"
   ]
  },
  {
   "cell_type": "code",
   "execution_count": 7,
   "metadata": {},
   "outputs": [],
   "source": [
    "import numpy as np\n",
    "\n",
    "pos = None\n",
    "for i in range(2):\n",
    "  new_graph = nx.DiGraph(graph)\n",
    "\n",
    "  for k in flow_in.keys():\n",
    "    in_ = flow_in[k]\n",
    "    out = flow_out[k]\n",
    "\n",
    "    idxA, A = zip(*out)\n",
    "    idxB, B = zip(*in_)\n",
    "\n",
    "    pairs = fio.binpacking.optimize(\n",
    "      [a / sum(A) for a in A],\n",
    "      [b / sum(B) for b in B],\n",
    "      weights=None if pos is None else {(i, j): np.sqrt(np.sum((pos[a] - pos[b])**2)) for i, a in enumerate(idxA) for j, b in enumerate(idxB)}\n",
    "    )\n",
    "\n",
    "    for (i, j), f in pairs.items():\n",
    "      new_graph.add_edge(idxA[i], idxB[j], w=f/A[i]*sum(A))\n",
    "\n",
    "  pos = nx.kamada_kawai_layout(new_graph)\n",
    "\n",
    "# pos = nx.spring_layout(new_graph, pos=pos)"
   ]
  },
  {
   "cell_type": "code",
   "execution_count": 8,
   "metadata": {},
   "outputs": [
    {
     "data": {
      "image/png": "[encoded data removed]",
      "text/plain": [
       "<Figure size 490x350 with 1 Axes>"
      ]
     },
     "metadata": {},
     "output_type": "display_data"
    }
   ],
   "source": [
    "import random\n",
    "from collections import deque\n",
    "\n",
    "nx.draw(new_graph, pos=pos, node_size=10, alpha=.15)\n"
   ]
  },
  {
   "cell_type": "code",
   "execution_count": 9,
   "metadata": {},
   "outputs": [],
   "source": [
    "def spiral_out_generator():\n",
    "    layer = 1\n",
    "    leg = 0\n",
    "    x, y = 0, 0\n",
    "    while True:\n",
    "        yield x, y\n",
    "        if leg == 0:\n",
    "            x += 1\n",
    "            if x == layer:\n",
    "                leg += 1\n",
    "        elif leg == 1:\n",
    "            y += 1\n",
    "            if y == layer:\n",
    "                leg += 1\n",
    "        elif leg == 2:\n",
    "            x -= 1\n",
    "            if -x == layer:\n",
    "                leg += 1\n",
    "        elif leg == 3:\n",
    "            y -= 1\n",
    "            if -y == layer:\n",
    "                leg = 0\n",
    "                layer += 1\n",
    "\n",
    "def find_nearest_unoccupied_cell(i, j, occupied, k):\n",
    "    spiral = spiral_out_generator()\n",
    "    while True:\n",
    "        ni, nj = next(spiral)\n",
    "        ni, nj = i + ni, j + nj\n",
    "        if 0 <= ni < k and 0 <= nj < k and (ni, nj) not in occupied:\n",
    "            return ni, nj\n",
    "\n"
   ]
  },
  {
   "cell_type": "code",
   "execution_count": 15,
   "metadata": {},
   "outputs": [
    {
     "name": "stdout",
     "output_type": "stream",
     "text": [
      "found: 25.452047200297724\n",
      "random: 30.757177187005144\n"
     ]
    }
   ],
   "source": [
    "import numpy as np\n",
    "\n",
    "k = int(np.ceil(np.sqrt(len(new_graph.nodes))))\n",
    "\n",
    "\n",
    "\n",
    "pos_int = {}\n",
    "\n",
    "pos_a = np.array(list(pos.values()))\n",
    "min_x, min_y = np.quantile(pos_a, 0.2, axis=0)\n",
    "max_x, max_y = np.quantile(pos_a, 0.8, axis=0)\n",
    "\n",
    "occupied = set()\n",
    "l = list(pos.items())\n",
    "random.shuffle(l)\n",
    "for key, (x, y) in l:\n",
    "    i = int((x-min_x)/(min_x-max_x) * k)\n",
    "    j = int((y-min_y)/(min_y-max_y) * k)\n",
    "    i, j = find_nearest_unoccupied_cell(i, j, occupied, k)\n",
    "    occupied.add((i, j))\n",
    "    pos_int[key] = np.array((i, j))\n",
    "\n",
    "\n",
    "pos_random = dict()\n",
    "\n",
    "available = [(i, j) for i in range(k) for j in range(k)]\n",
    "random.shuffle(available)\n",
    "for key, x in zip(pos.keys(), available):\n",
    "    pos_random[key] = np.array(x)\n",
    "\n",
    "print(\"found:\", sum(w * np.sqrt(np.sum((pos_int[u] - pos_int[v])**2)) for u, v, w in new_graph.edges(data=\"w\")))\n",
    "\n",
    "print(\"random:\", sum(w * np.sqrt(np.sum((pos_random[u] - pos_random[v])**2)) for u, v, w in new_graph.edges(data=\"w\")))\n"
   ]
  },
  {
   "cell_type": "code",
   "execution_count": 16,
   "metadata": {},
   "outputs": [
    {
     "data": {
      "text/plain": [
       "{'id_automation-science-pack_0': array([0, 0]),\n",
       " 'id_automation-science-pack_2': array([1, 0]),\n",
       " 'id_sink_1': array([1, 2]),\n",
       " 'id_automation-science-pack_1': array([2, 0]),\n",
       " 'id_sink_0': array([1, 1]),\n",
       " 'id_iron-plate_0': array([0, 1]),\n",
       " 'id_source_0': array([0, 2]),\n",
       " 'id_iron-plate_3': array([2, 1]),\n",
       " 'id_iron-gear-wheel_0': array([2, 2]),\n",
       " 'id_copper-plate_1': array([3, 0]),\n",
       " 'id_automation-science-pack_3': array([2, 3]),\n",
       " 'id_iron-plate_1': array([3, 1]),\n",
       " 'id_copper-plate_0': array([3, 2]),\n",
       " 'id_iron-plate_2': array([3, 3])}"
      ]
     },
     "execution_count": 16,
     "metadata": {},
     "output_type": "execute_result"
    }
   ],
   "source": [
    "pos_int"
   ]
  },
  {
   "cell_type": "markdown",
   "metadata": {},
   "source": [
    "The current position seems to be good enought for actual blueprint construction using robots"
   ]
  },
  {
   "cell_type": "markdown",
   "metadata": {},
   "source": [
    "# Blueprint construction\n",
    "\n",
    "We don't need for each recipes to create a new blueprint: we only need one blueprint for each machines and fluids inputs and outputs.\n"
   ]
  },
  {
   "cell_type": "code",
   "execution_count": 17,
   "metadata": {},
   "outputs": [
    {
     "data": {
      "text/html": [
       "<div>\n",
       "<style scoped>\n",
       "    .dataframe tbody tr th:only-of-type {\n",
       "        vertical-align: middle;\n",
       "    }\n",
       "\n",
       "    .dataframe tbody tr th {\n",
       "        vertical-align: top;\n",
       "    }\n",
       "\n",
       "    .dataframe thead th {\n",
       "        text-align: right;\n",
       "    }\n",
       "</style>\n",
       "<table border=\"1\" class=\"dataframe\">\n",
       "  <thead>\n",
       "    <tr style=\"text-align: right;\">\n",
       "      <th></th>\n",
       "      <th></th>\n",
       "      <th></th>\n",
       "      <th></th>\n",
       "      <th></th>\n",
       "      <th>recipe</th>\n",
       "      <th>data</th>\n",
       "    </tr>\n",
       "    <tr>\n",
       "      <th>machine</th>\n",
       "      <th>item_in</th>\n",
       "      <th>item_out</th>\n",
       "      <th>fluid_in</th>\n",
       "      <th>fluid_out</th>\n",
       "      <th></th>\n",
       "      <th></th>\n",
       "    </tr>\n",
       "  </thead>\n",
       "  <tbody>\n",
       "    <tr>\n",
       "      <th rowspan=\"2\" valign=\"top\">assembling-machine-3</th>\n",
       "      <th>1</th>\n",
       "      <th>1</th>\n",
       "      <th>0</th>\n",
       "      <th>0</th>\n",
       "      <td>1</td>\n",
       "      <td>1</td>\n",
       "    </tr>\n",
       "    <tr>\n",
       "      <th>2</th>\n",
       "      <th>1</th>\n",
       "      <th>0</th>\n",
       "      <th>0</th>\n",
       "      <td>4</td>\n",
       "      <td>4</td>\n",
       "    </tr>\n",
       "    <tr>\n",
       "      <th>electric-furnace</th>\n",
       "      <th>1</th>\n",
       "      <th>1</th>\n",
       "      <th>0</th>\n",
       "      <th>0</th>\n",
       "      <td>6</td>\n",
       "      <td>6</td>\n",
       "    </tr>\n",
       "  </tbody>\n",
       "</table>\n",
       "</div>"
      ],
      "text/plain": [
       "                                                          recipe  data\n",
       "machine              item_in item_out fluid_in fluid_out              \n",
       "assembling-machine-3 1       1        0        0               1     1\n",
       "                     2       1        0        0               4     4\n",
       "electric-furnace     1       1        0        0               6     6"
      ]
     },
     "execution_count": 17,
     "metadata": {},
     "output_type": "execute_result"
    }
   ],
   "source": [
    "import pandas as pd\n",
    "\n",
    "df = {}\n",
    "\n",
    "def select(kind1, kind2):\n",
    "  return sum(1 for i in data[\"recipe\"][kind1] if i[\"type\"] == kind2)\n",
    "\n",
    "for node, data in new_graph.nodes(data=True):\n",
    "  if data[\"kind\"] != \"transformator\":\n",
    "    continue\n",
    "  df[node] = {\n",
    "    \"machine\": data[\"machine\"][\"name\"],\n",
    "    \"recipe\": data[\"recipe\"][\"name\"],\n",
    "    \"item_in\": select(\"ingredients\", \"item\"),\n",
    "    \"item_out\": select(\"products\", \"item\"),\n",
    "    \"fluid_in\": select(\"ingredients\", \"fluid\"),\n",
    "    \"fluid_out\": select(\"products\", \"fluid\"),\n",
    "    \"data\": data,\n",
    "  }\n",
    "\n",
    "df = pd.DataFrame(df).T\n",
    "\n",
    "df.groupby([\"machine\", \"item_in\", \"item_out\", \"fluid_in\", \"fluid_out\"]).count()\n"
   ]
  },
  {
   "cell_type": "code",
   "execution_count": 19,
   "metadata": {},
   "outputs": [
    {
     "ename": "FileNotFoundError",
     "evalue": "[Errno 2] No such file or directory: 'blueprints/automated1.json.base64'",
     "output_type": "error",
     "traceback": [
      "\u001b[0;31m---------------------------------------------------------------------------\u001b[0m",
      "\u001b[0;31mFileNotFoundError\u001b[0m                         Traceback (most recent call last)",
      "\u001b[1;32m/home/adelaett/docs/projects/fio/notebooks/robot-base.ipynb Cell 16\u001b[0m line \u001b[0;36m3\n\u001b[1;32m      <a href='vscode-notebook-cell:/home/adelaett/docs/projects/fio/notebooks/robot-base.ipynb#X21sZmlsZQ%3D%3D?line=0'>1</a>\u001b[0m \u001b[39mimport\u001b[39;00m \u001b[39mfio\u001b[39;00m\u001b[39m.\u001b[39;00m\u001b[39mblueprint\u001b[39;00m\n\u001b[0;32m----> <a href='vscode-notebook-cell:/home/adelaett/docs/projects/fio/notebooks/robot-base.ipynb#X21sZmlsZQ%3D%3D?line=2'>3</a>\u001b[0m \u001b[39mwith\u001b[39;00m \u001b[39mopen\u001b[39;49m(\u001b[39m\"\u001b[39;49m\u001b[39mblueprints/automated1.json.base64\u001b[39;49m\u001b[39m\"\u001b[39;49m) \u001b[39mas\u001b[39;00m f:\n\u001b[1;32m      <a href='vscode-notebook-cell:/home/adelaett/docs/projects/fio/notebooks/robot-base.ipynb#X21sZmlsZQ%3D%3D?line=3'>4</a>\u001b[0m   book \u001b[39m=\u001b[39m fio\u001b[39m.\u001b[39mblueprint\u001b[39m.\u001b[39mloads(f\u001b[39m.\u001b[39mread())\n\u001b[1;32m      <a href='vscode-notebook-cell:/home/adelaett/docs/projects/fio/notebooks/robot-base.ipynb#X21sZmlsZQ%3D%3D?line=6'>7</a>\u001b[0m book \u001b[39m=\u001b[39m {b[\u001b[39m\"\u001b[39m\u001b[39mblueprint\u001b[39m\u001b[39m\"\u001b[39m][\u001b[39m\"\u001b[39m\u001b[39mlabel\u001b[39m\u001b[39m\"\u001b[39m]: b[\u001b[39m\"\u001b[39m\u001b[39mblueprint\u001b[39m\u001b[39m\"\u001b[39m] \u001b[39mfor\u001b[39;00m b \u001b[39min\u001b[39;00m book[\u001b[39m\"\u001b[39m\u001b[39mblueprint_book\u001b[39m\u001b[39m\"\u001b[39m][\u001b[39m\"\u001b[39m\u001b[39mblueprints\u001b[39m\u001b[39m\"\u001b[39m]}\n",
      "File \u001b[0;32m/nix/store/jdg9davqyl4rmf11z8pycfgs3cyy331q-python3-3.11.5-env/lib/python3.11/site-packages/IPython/core/interactiveshell.py:282\u001b[0m, in \u001b[0;36m_modified_open\u001b[0;34m(file, *args, **kwargs)\u001b[0m\n\u001b[1;32m    275\u001b[0m \u001b[39mif\u001b[39;00m file \u001b[39min\u001b[39;00m {\u001b[39m0\u001b[39m, \u001b[39m1\u001b[39m, \u001b[39m2\u001b[39m}:\n\u001b[1;32m    276\u001b[0m     \u001b[39mraise\u001b[39;00m \u001b[39mValueError\u001b[39;00m(\n\u001b[1;32m    277\u001b[0m         \u001b[39mf\u001b[39m\u001b[39m\"\u001b[39m\u001b[39mIPython won\u001b[39m\u001b[39m'\u001b[39m\u001b[39mt let you open fd=\u001b[39m\u001b[39m{\u001b[39;00mfile\u001b[39m}\u001b[39;00m\u001b[39m by default \u001b[39m\u001b[39m\"\u001b[39m\n\u001b[1;32m    278\u001b[0m         \u001b[39m\"\u001b[39m\u001b[39mas it is likely to crash IPython. If you know what you are doing, \u001b[39m\u001b[39m\"\u001b[39m\n\u001b[1;32m    279\u001b[0m         \u001b[39m\"\u001b[39m\u001b[39myou can use builtins\u001b[39m\u001b[39m'\u001b[39m\u001b[39m open.\u001b[39m\u001b[39m\"\u001b[39m\n\u001b[1;32m    280\u001b[0m     )\n\u001b[0;32m--> 282\u001b[0m \u001b[39mreturn\u001b[39;00m io_open(file, \u001b[39m*\u001b[39;49margs, \u001b[39m*\u001b[39;49m\u001b[39m*\u001b[39;49mkwargs)\n",
      "\u001b[0;31mFileNotFoundError\u001b[0m: [Errno 2] No such file or directory: 'blueprints/automated1.json.base64'"
     ]
    }
   ],
   "source": [
    "import fio.blueprint\n",
    "\n",
    "with open(\"blueprints/automated1.json.base64\") as f:\n",
    "  book = fio.blueprint.loads(f.read())\n",
    "\n",
    "\n",
    "book = {b[\"blueprint\"][\"label\"]: b[\"blueprint\"] for b in book[\"blueprint_book\"][\"blueprints\"]}\n",
    "\n",
    "book[\"f-n-n\"]"
   ]
  },
  {
   "cell_type": "code",
   "execution_count": 20,
   "metadata": {},
   "outputs": [
    {
     "ename": "KeyError",
     "evalue": "'recipe'",
     "output_type": "error",
     "traceback": [
      "\u001b[0;31m---------------------------------------------------------------------------\u001b[0m",
      "\u001b[0;31mAttributeError\u001b[0m                            Traceback (most recent call last)",
      "File \u001b[0;32m~/docs/projects/fio/fio/database.py:8\u001b[0m, in \u001b[0;36mbunch.__getattribute__\u001b[0;34m(self, name)\u001b[0m\n\u001b[1;32m      7\u001b[0m \u001b[39mtry\u001b[39;00m:\n\u001b[0;32m----> 8\u001b[0m   \u001b[39mreturn\u001b[39;00m \u001b[39msuper\u001b[39;49m()\u001b[39m.\u001b[39;49m\u001b[39m__getattribute__\u001b[39;49m(name)\n\u001b[1;32m      9\u001b[0m \u001b[39mexcept\u001b[39;00m \u001b[39mAttributeError\u001b[39;00m:\n",
      "\u001b[0;31mAttributeError\u001b[0m: 'bunch' object has no attribute 'recipe'",
      "\nDuring handling of the above exception, another exception occurred:\n",
      "\u001b[0;31mKeyError\u001b[0m                                  Traceback (most recent call last)",
      "\u001b[1;32m/home/adelaett/docs/projects/fio/notebooks/robot-base.ipynb Cell 17\u001b[0m line \u001b[0;36m1\n\u001b[0;32m----> <a href='vscode-notebook-cell:/home/adelaett/docs/projects/fio/notebooks/robot-base.ipynb#X22sZmlsZQ%3D%3D?line=0'>1</a>\u001b[0m barrels_recipes \u001b[39m=\u001b[39m {k \u001b[39mfor\u001b[39;00m k \u001b[39min\u001b[39;00m db\u001b[39m.\u001b[39;49mrecipe\u001b[39m.\u001b[39mkeys() \u001b[39mif\u001b[39;00m \u001b[39m\"\u001b[39m\u001b[39mbarrel\u001b[39m\u001b[39m\"\u001b[39m \u001b[39min\u001b[39;00m k}\n\u001b[1;32m      <a href='vscode-notebook-cell:/home/adelaett/docs/projects/fio/notebooks/robot-base.ipynb#X22sZmlsZQ%3D%3D?line=2'>3</a>\u001b[0m {k: (\u001b[39mf\u001b[39m\u001b[39m\"\u001b[39m\u001b[39mempty-\u001b[39m\u001b[39m{\u001b[39;00mk\u001b[39m}\u001b[39;00m\u001b[39m-barrel\u001b[39m\u001b[39m\"\u001b[39m \u001b[39min\u001b[39;00m barrels_recipes \u001b[39mand\u001b[39;00m \u001b[39mf\u001b[39m\u001b[39m\"\u001b[39m\u001b[39mfill-\u001b[39m\u001b[39m{\u001b[39;00mk\u001b[39m}\u001b[39;00m\u001b[39m-barrel\u001b[39m\u001b[39m\"\u001b[39m \u001b[39min\u001b[39;00m barrels_recipes) \u001b[39mfor\u001b[39;00m k \u001b[39min\u001b[39;00m db\u001b[39m.\u001b[39mfluid\u001b[39m.\u001b[39mkeys()}\n",
      "File \u001b[0;32m~/docs/projects/fio/fio/database.py:10\u001b[0m, in \u001b[0;36mbunch.__getattribute__\u001b[0;34m(self, name)\u001b[0m\n\u001b[1;32m      8\u001b[0m   \u001b[39mreturn\u001b[39;00m \u001b[39msuper\u001b[39m()\u001b[39m.\u001b[39m\u001b[39m__getattribute__\u001b[39m(name)\n\u001b[1;32m      9\u001b[0m \u001b[39mexcept\u001b[39;00m \u001b[39mAttributeError\u001b[39;00m:\n\u001b[0;32m---> 10\u001b[0m   \u001b[39mreturn\u001b[39;00m \u001b[39mself\u001b[39;49m[name]\n",
      "\u001b[0;31mKeyError\u001b[0m: 'recipe'"
     ]
    }
   ],
   "source": [
    "barrels_recipes = {k for k in db.recipe.keys() if \"barrel\" in k}\n",
    "\n",
    "{k: (f\"empty-{k}-barrel\" in barrels_recipes and f\"fill-{k}-barrel\" in barrels_recipes) for k in db.fluid.keys()}"
   ]
  },
  {
   "cell_type": "code",
   "execution_count": 21,
   "metadata": {},
   "outputs": [
    {
     "data": {
      "text/plain": [
       "{'blueprint': {'icons': [{'signal': {'type': 'item',\n",
       "     'name': 'kr-atmospheric-condenser'},\n",
       "    'index': 1}],\n",
       "  'entities': [{'entity_number': 1,\n",
       "    'name': 'kr-atmospheric-condenser',\n",
       "    'position': {'x': -119.5, 'y': -45.5},\n",
       "    'direction': 4,\n",
       "    'recipe': 'hydrogen'},\n",
       "   {'entity_number': 2,\n",
       "    'name': 'assembling-machine-2',\n",
       "    'position': {'x': -115.5, 'y': -46.5},\n",
       "    'direction': 6,\n",
       "    'recipe': 'fill-hydrogen-barrel'},\n",
       "   {'entity_number': 3,\n",
       "    'name': 'medium-electric-pole',\n",
       "    'position': {'x': -116.5, 'y': -44.5}},\n",
       "   {'entity_number': 4,\n",
       "    'name': 'fast-inserter',\n",
       "    'position': {'x': -114.5, 'y': -44.5},\n",
       "    'direction': 4},\n",
       "   {'entity_number': 5,\n",
       "    'name': 'fast-inserter',\n",
       "    'position': {'x': -115.5, 'y': -44.5}},\n",
       "   {'entity_number': 6,\n",
       "    'name': 'logistic-chest-passive-provider',\n",
       "    'position': {'x': -115.5, 'y': -43.5}},\n",
       "   {'entity_number': 7,\n",
       "    'name': 'logistic-chest-requester',\n",
       "    'position': {'x': -114.5, 'y': -43.5},\n",
       "    'request_filters': [{'index': 1, 'name': 'empty-barrel', 'count': 10}]}],\n",
       "  'item': 'blueprint',\n",
       "  'version': 281479276527617}}"
      ]
     },
     "execution_count": 21,
     "metadata": {},
     "output_type": "execute_result"
    }
   ],
   "source": [
    "fio.blueprint.loads(\"\"\"0eNqVk9lug0AMRf/Fz0xUCEvLr1RRxOKA1VnozBAVRfx7DWlQ0hKhPiA8yHPuxcsFStljZ0l7yC9AldEO8vcLOGp0IadvfugQciCPCgLQhZpOH1YUXhnXtWipEnytRu3QwhgAcfwFeTgeAkDtyRNemfNhOOpelZyZh9u0ADrjGGD05IShIgzfdkkAA4dxsktYriaL1TUlDoBjmv22Q21Ng5od/VGOFuXCOVSlJN0IVVQtaRTRqmqyqKa/VdM71RNJKW7SoiysRbnmYL84UFhTrwRKxk0/3xmJqw7SxUHMDlaY8cI8Fc4LmironxQxfoA9FnEFnfwDnWz5TBeYNA05P3W8RcZ23A06o+isOVO9id+v47NneIufPb83K7KfK/KTfeSO8pXrAN8me1FA1fnh1uYAKtNPexS+jIdp+OeVye82LIAzo2bZ6DWMs7coSxN+wmwcvwHvxCnW\"\"\")"
   ]
  },
  {
   "cell_type": "code",
   "execution_count": null,
   "metadata": {},
   "outputs": [],
   "source": []
  },
  {
   "cell_type": "code",
   "execution_count": null,
   "metadata": {},
   "outputs": [],
   "source": []
  },
  {
   "cell_type": "code",
   "execution_count": null,
   "metadata": {},
   "outputs": [],
   "source": []
  },
  {
   "cell_type": "code",
   "execution_count": null,
   "metadata": {},
   "outputs": [],
   "source": []
  },
  {
   "cell_type": "code",
   "execution_count": null,
   "metadata": {},
   "outputs": [],
   "source": []
  },
  {
   "cell_type": "code",
   "execution_count": null,
   "metadata": {},
   "outputs": [],
   "source": []
  },
  {
   "cell_type": "code",
   "execution_count": null,
   "metadata": {},
   "outputs": [],
   "source": []
  },
  {
   "cell_type": "code",
   "execution_count": null,
   "metadata": {},
   "outputs": [],
   "source": []
  },
  {
   "cell_type": "code",
   "execution_count": null,
   "metadata": {},
   "outputs": [],
   "source": []
  },
  {
   "cell_type": "code",
   "execution_count": null,
   "metadata": {},
   "outputs": [],
   "source": []
  },
  {
   "cell_type": "code",
   "execution_count": null,
   "metadata": {},
   "outputs": [],
   "source": []
  },
  {
   "cell_type": "code",
   "execution_count": null,
   "metadata": {},
   "outputs": [],
   "source": []
  }
 ],
 "metadata": {
  "kernelspec": {
   "display_name": "Python 3 (ipykernel)",
   "language": "python",
   "name": "python3"
  },
  "language_info": {
   "codemirror_mode": {
    "name": "ipython",
    "version": 3
   },
   "file_extension": ".py",
   "mimetype": "text/x-python",
   "name": "python",
   "nbconvert_exporter": "python",
   "pygments_lexer": "ipython3",
   "version": "3.11.5"
  },
  "vscode": {
   "interpreter": {
    "hash": "2e7007663510ed9db58bd00c4b6768d5d37222230e04b44bb35e77da9185a2df"
   }
  }
 },
 "nbformat": 4,
 "nbformat_minor": 4
}
