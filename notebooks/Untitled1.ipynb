{
 "cells": [
  {
   "cell_type": "code",
   "execution_count": 1,
   "id": "736f0223-8f89-4f60-80f2-42a8ae66b827",
   "metadata": {},
   "outputs": [],
   "source": [
    "from collections import defaultdict\n",
    "import random\n",
    "\n",
    "import mip\n",
    "import json\n",
    "import networkx as nx"
   ]
  },
  {
   "cell_type": "code",
   "execution_count": 2,
   "id": "e796f15d-23be-4b09-b03a-4e106dc23250",
   "metadata": {},
   "outputs": [],
   "source": [
    "def multicommodity_flow(g: nx.Graph, h: nx.Graph, u, b):\n",
    "    model = mip.Model()\n",
    "    model.verbose = 0\n",
    "\n",
    "    flow = {(f, e): model.add_var(f\"flow-{f}-{e}\", lb=0, obj=1) for e in set(g.edges()) for f in h.edges()}\n",
    "\n",
    "    for e in g.edges():\n",
    "        model.add_constr(mip.quicksum(flow[f, e] for f in h.edges()) <= u[e])\n",
    "\n",
    "    for f in h.edges():\n",
    "        (s, t) = f\n",
    "\n",
    "        for v in g.nodes():\n",
    "            model.add_constr(\n",
    "                  mip.quicksum(flow[f, e] for e in set(g.out_edges(v)))\n",
    "                - mip.quicksum(flow[f, e] for e in set(g.in_edges(v)))\n",
    "                == (1 if v == s else 0) * b[f] + (-1 if v == t else 0) * b[f])\n",
    "\n",
    "    model.optimize()\n",
    "\n",
    "    return model.status, {k: v.x for k, v in flow.items() if v.x is not None and v.x > 0}\n"
   ]
  }
 ],
 "metadata": {
  "kernelspec": {
   "display_name": "Python 3.10.8 64-bit",
   "language": "python",
   "name": "python3"
  },
  "language_info": {
   "codemirror_mode": {
    "name": "ipython",
    "version": 3
   },
   "file_extension": ".py",
   "mimetype": "text/x-python",
   "name": "python",
   "nbconvert_exporter": "python",
   "pygments_lexer": "ipython3",
   "version": "3.10.8"
  },
  "vscode": {
   "interpreter": {
    "hash": "4db17f31f4763c47c3c8e3bc49c08c6cf6cbf46132062c0430fa9724e5264898"
   }
  }
 },
 "nbformat": 4,
 "nbformat_minor": 5
}
