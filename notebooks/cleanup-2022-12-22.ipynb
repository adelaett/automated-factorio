{
 "cells": [
  {
   "cell_type": "code",
   "execution_count": 1,
   "metadata": {},
   "outputs": [],
   "source": [
    "import fio.database\n",
    "import mip\n",
    "\n",
    "db = fio.database.load_db(\"data\")"
   ]
  },
  {
   "cell_type": "code",
   "execution_count": 2,
   "metadata": {},
   "outputs": [],
   "source": [
    "import functools\n",
    "\n",
    "def is_fluid(name):\n",
    "    return db.fluid.query(f\"\"\"map(select(.name == \"{name}\"))|any\"\"\")\n",
    "\n",
    "def is_item(name):\n",
    "    return db.item.query(f\"\"\"map(select(.name == \"{name}\"))|any\"\"\")\n",
    "\n",
    "assert is_item(\"iron-ore\")\n",
    "assert not is_fluid(\"iron-ore\")\n",
    "\n",
    "assert not is_item(\"water\")\n",
    "assert is_fluid(\"water\")\n",
    "\n",
    "@functools.lru_cache(16)\n",
    "def get_assembly_machines(category, craftable_only=True):\n",
    "  ms = []\n",
    "\n",
    "  for m in db.assembling_machine.find(f\"\"\".[] | select(.crafting_categories.\"{category}\")\"\"\"):\n",
    "    if craftable_only and not db.recipe.query(f\"\"\"map( select(.main_product.name == \"{m['name']}\" )) | any\"\"\"):\n",
    "      continue\n",
    "    ms.append(m)\n",
    "\n",
    "  for m in db.furnace.find(f\"\"\".[] | select(.crafting_categories.\"{category}\") \"\"\"):\n",
    "    if craftable_only and not db.recipe.query(f\"\"\"map( select(.main_product.name == \"{m['name']}\" )) | any\"\"\"):\n",
    "      continue\n",
    "    ms.append(m)\n",
    "\n",
    "  return ms\n",
    "\n",
    "# assert get_assembly_machines(\"nuclear-fusion\") == ['kr-fusion-reactor']\n",
    "# assert set(get_assembly_machines(\"basic-crafting\")) == {'assembling-machine-1', 'assembling-machine-2', 'assembling-machine-3', 'kr-advanced-assembling-machine'}\n",
    "\n",
    "assert len(db.recipe.find(\".[] | select(.hidden) | .name\")) == 750\n",
    "assert len(db.assembling_machine.find(\"\"\".[] | select(.crafting_categories.\"basic-crafting\") | .name\"\"\")) == 6\n",
    "assert db.recipe.query(\"\"\"map( select(.main_product.name == \"laser-turret\" ))|any\"\"\") == True\n",
    "assert db.recipe.query(\"\"\"map( select(.main_product.name == \"rien\" ))|any\"\"\") == False"
   ]
  },
  {
   "cell_type": "code",
   "execution_count": null,
   "metadata": {},
   "outputs": [],
   "source": []
  },
  {
   "cell_type": "code",
   "execution_count": 44,
   "metadata": {},
   "outputs": [],
   "source": [
    "recipes = fio.database.HyperDiGraph()\n",
    "\n",
    "ignore_machines = [\n",
    "    \"kr-advanced-assembling-machine\",\n",
    "    \"kr-advanced-chemical-plant\",\n",
    "    \"kr-advanced-furnace\",\n",
    "    \"electric-furnace\",\n",
    "    \"assembling-machine-3\",\n",
    "    \"kr-matter-assembler\",\n",
    "    \"kr-matter-plant\",\n",
    "    \"kr-quantum-computer\"\n",
    "]\n",
    "\n",
    "for r in db.recipe.find(\".[]\"):\n",
    "    for m in get_assembly_machines(r['category']):\n",
    "\n",
    "        if m[\"name\"] in ignore_machines:\n",
    "            continue\n",
    "\n",
    "        A = {i[\"name\"] for i in r[\"ingredients\"]}\n",
    "        B = {p[\"name\"] for p in r[\"products\"]}\n",
    "        recipes.add_edge(A, B, {\"recipe\": r, \"machine\": m, \"name\": f\"{r['name']}#{m['name']}\"})\n"
   ]
  },
  {
   "cell_type": "code",
   "execution_count": 45,
   "metadata": {},
   "outputs": [
    {
     "name": "stdout",
     "output_type": "stream",
     "text": [
      "OptimizationStatus.OPTIMAL\n"
     ]
    }
   ],
   "source": [
    "import fio.flow\n",
    "\n",
    "\n",
    "source = {\n",
    "    \"iron-ore\": float(\"+inf\"),\n",
    "    \"crude-oil\": float(\"+inf\"),\n",
    "    \"copper-ore\": float(\"+inf\"),\n",
    "    \"stone\": float(\"+inf\"),\n",
    "    \"coal\": float(\"+inf\"),\n",
    "    \"water\": float(\"+inf\"),\n",
    "    \"wood\": float(\"+inf\"),\n",
    "    \"biomass\": float(\"+inf\"),\n",
    "    \"uranium-238\": float(\"+inf\"),\n",
    "    \"imersite-powder\": float(\"+inf\"),\n",
    "    \"mineral-water\": float(\"+inf\"),\n",
    "    \"raw-rare-metals\": float(\"+inf\"),\n",
    "}\n",
    "\n",
    "target = {\n",
    "    k: 1 for k in {\n",
    "        # 'basic-tech-card',\n",
    "        # 'advanced-tech-card',\n",
    "        'automation-science-pack',\n",
    "        # 'biters-research-data',\n",
    "        'chemical-science-pack',\n",
    "        'logistic-science-pack',\n",
    "        'production-science-pack',\n",
    "        'utility-science-pack',\n",
    "        # 'matter-research-data',\n",
    "        # 'matter-tech-card',\n",
    "        # 'military-science-pack',\n",
    "        # 'singularity-tech-card',\n",
    "    }\n",
    "}\n",
    "\n",
    "model = fio.flow.optimize_model(recipes, dict(**source, **{k: -v for k, v in target.items()}))\n",
    "\n",
    "print(model[\"status\"])\n",
    "# model = build_detailed_graph(model)"
   ]
  },
  {
   "cell_type": "code",
   "execution_count": 46,
   "metadata": {},
   "outputs": [
    {
     "name": "stdout",
     "output_type": "stream",
     "text": [
      "defaultdict(<class 'int'>, {'assembling-machine-2': 137, 'steel-furnace': 112, 'kr-atmospheric-condenser': 5, 'chemical-plant': 6, 'oil-refinery': 12, 'kr-crusher': 5, 'kr-research-server': 8, 'kr-filtration-plant': 4, 'kr-fuel-refinery': 16})\n",
      "{'fast-transport-belt': -1.0, 'copper-ore': 1.25, 'light-oil': -7.125, 'electronic-components': 0.125, 'coke': -0.5, 'sand': -0.7380952380952381, 'sulfur': 3.0, 'processing-unit': 0.125, 'coal': 1.75, 'iron-gear-wheel': 7.6875, 'wood': 1.125, 'quartz': -0.6071428571428572, 'petroleum-gas': 39.0, 'iron-stick': -1.5, 'blank-tech-card': -0.3125, 'copper-plate': 3.5, 'electronic-circuit': 0.4375, 'logistic-science-pack': -0.1875, 'chemical-science-pack': -0.1875, 'oxygen': -5.875, 'automation-core': -0.7125, 'automation-science-pack': -0.1875, 'rocket-fuel': 0.1875, 'heavy-oil': -5.0, 'glass': -0.0625, 'iron-plate': 7.3125, 'steel-plate': -0.55, 'uranium-238': 0.25, 'raw-rare-metals': 1.25, 'advanced-circuit': 0.1875, 'iron-ore': 1.25, 'plastic-bar': -1.4375, 'utility-science-pack': -0.25, 'crude-oil': 20.0, 'transport-belt': -1.5, 'low-density-structure': 0.2125, 'sulfuric-acid': -47.5, 'rare-metals': -0.4375, 'productivity-module': 0.2, 'production-science-pack': -0.25, 'silicon': -0.75, 'water': 144.76190476190476, 'stone': 3.0}\n"
     ]
    }
   ],
   "source": [
    "\n",
    "from collections import defaultdict\n",
    "\n",
    "inputs = defaultdict(float)\n",
    "outputs = defaultdict(float)\n",
    "c = defaultdict(int)\n",
    "\n",
    "\n",
    "flows = []\n",
    "for r, m, k, f in [tuple(k.split(\"#\") + list(v)) for k, v in model[\"flow\"].items()]:\n",
    "    c[m] += k\n",
    "\n",
    "    m1 = db.assembling_machine.query(f\"\"\"map( select(.name == \"{m}\")) \"\"\")\n",
    "    m2 = db.furnace.query(f\"\"\"map( select(.name == \"{m}\")) \"\"\")\n",
    "    m = (m1 + m2)[0]\n",
    "    r = db.recipe.query(f\"\"\"map( select(.name == \"{r}\"))\"\"\")[0]\n",
    "\n",
    "    flows.append(r, m, k, f)\n",
    "  \n",
    "#     for i in r[\"ingredients\"]:\n",
    "#       inputs[i[\"name\"]] += i[\"amount\"] * m[\"crafting_speed\"] * (i[\"probability\"] if \"probability\" in i else 1) / r[\"energy\"]\n",
    "    \n",
    "#     for i in r[\"products\"]:\n",
    "#       if \"amount\" in i:\n",
    "#         amount = i[\"amount\"]\n",
    "#       elif \"amount_min\" in i and \"amount_max\" in i:\n",
    "#         amount = (i[\"amount_min\"] + i[\"amount_max\"]) / 2\n",
    "#       outputs[i[\"name\"]] += amount * m[\"crafting_speed\"] * (i[\"probability\"] if \"probability\" in i else 1) / r[\"energy\"]\n",
    "\n",
    "\n",
    "# diff = {k: inputs[k] - outputs[k] for k in set(inputs.keys()) | set(outputs.keys())\n",
    "# if inputs[k] - outputs[k] != 0}\n",
    "\n",
    "# print(c)\n",
    "# print(diff)"
   ]
  },
  {
   "attachments": {},
   "cell_type": "markdown",
   "metadata": {},
   "source": [
    "# Second step.\n",
    "\n",
    "\n",
    "We now need to know how many machines are needed for which exchange. To do so, we build an other linear program, with pack bins everywhere.\n",
    "\n",
    "\n",
    "\n",
    "\n",
    "# Bin packing\n",
    "\n",
    "Inputs:\n",
    "* $v[j]$ output flow required\n",
    "* $u[i]$ input flow required\n",
    "\n",
    "Variables:\n",
    "* $x[i, j]$ real between 0 and 1, indicate the flow from $i$ to j$\n",
    "* $y[i, j]$ boolean indicate if the edge from $i$ to $j$\n",
    "\n",
    "Minimize $\\displaystyle \\sum_{i, j} y[i, j]$\n",
    "Subject:\n",
    "* $\\displaystyle \\forall i j, x[i, j] \\leq y[i, j]$\n",
    "* $\\displaystyle \\forall i, \\sum_j x[i, j] = u_i$\n",
    "* $\\displaystyle \\forall j, \\sum_i x[i, j] = v_i$\n",
    "\n",
    "\n"
   ]
  },
  {
   "cell_type": "code",
   "execution_count": null,
   "metadata": {},
   "outputs": [],
   "source": [
    "import fio.binpacking\n",
    "\n",
    "fio.binpacking.optimize([0.1, 0.2, 0.3], [0.3, 0.2, 0.1])\n"
   ]
  },
  {
   "cell_type": "code",
   "execution_count": null,
   "metadata": {},
   "outputs": [],
   "source": [
    "for n, info in model.nodes(data=True):\n",
    "    if info[\"kind\"] != \"exchange\":\n",
    "        continue\n",
    "\n",
    "    A = {(u, v): k for u, v, k in model.in_edges(n, data=\"flow\")}\n",
    "    B = {(u, v): k for u, v, k in model.out_edges(n, data=\"flow\")}\n",
    "    if sum(A.values()) < sum(B.values()):\n",
    "        A[\"source\", n] = sum(map(arith.float_to_frac, B.values())) - sum(map(arith.float_to_frac, A.values()))\n",
    "    \n",
    "    if sum(A.values()) > sum(B.values()):\n",
    "        B[\"sink\", n] = sum(map(arith.float_to_frac, A.values())) - sum(map(arith.float_to_frac, B.values()))\n",
    "\n",
    "    m = arith.float_to_frac(sum(A.values()))\n",
    "    A = {k: (arith.float_to_frac(v/m)) for k, v in A.items()}\n",
    "    B = {k: (arith.float_to_frac(v/m)) for k, v in B.items()}\n",
    "\n",
    "\n",
    "    print(n)\n",
    "    print({k: arith.float_to_frac(v)*m for k, v in A.items()})\n",
    "    print({k: arith.float_to_frac(v)*m for k, v in B.items()})\n",
    "    print(fio.binpacking.optimize(A, B))\n",
    "    print()"
   ]
  },
  {
   "cell_type": "code",
   "execution_count": null,
   "metadata": {},
   "outputs": [],
   "source": []
  }
 ],
 "metadata": {
  "kernelspec": {
   "display_name": "Python 3.10.9 64-bit",
   "language": "python",
   "name": "python3"
  },
  "language_info": {
   "codemirror_mode": {
    "name": "ipython",
    "version": 3
   },
   "file_extension": ".py",
   "mimetype": "text/x-python",
   "name": "python",
   "nbconvert_exporter": "python",
   "pygments_lexer": "ipython3",
   "version": "3.10.9"
  },
  "orig_nbformat": 4,
  "vscode": {
   "interpreter": {
    "hash": "2e7007663510ed9db58bd00c4b6768d5d37222230e04b44bb35e77da9185a2df"
   }
  }
 },
 "nbformat": 4,
 "nbformat_minor": 2
}
