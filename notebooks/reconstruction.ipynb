{
 "cells": [
  {
   "cell_type": "code",
   "execution_count": 101,
   "id": "9b327652-f5e1-4382-bf37-226e5aeea170",
   "metadata": {},
   "outputs": [
    {
     "data": {
      "text/plain": [
       "<matplotlib.image.AxesImage at 0x7f7db1744a60>"
      ]
     },
     "execution_count": 101,
     "metadata": {},
     "output_type": "execute_result"
    },
    {
     "data": {
      "image/png": "[encoded data removed]",
      "text/plain": [
       "<Figure size 432x288 with 1 Axes>"
      ]
     },
     "metadata": {
      "needs_background": "light"
     },
     "output_type": "display_data"
    }
   ],
   "source": [
    "import sklearn\n",
    "import sklearn.model_selection\n",
    "import sklearn.datasets\n",
    "import sklearn.decomposition\n",
    "\n",
    "import joblib\n",
    "\n",
    "from numpy.linalg import norm\n",
    "\n",
    "import numpy as np\n",
    "\n",
    "import sklearn.utils\n",
    "from sklearn.utils.metaestimators import _safe_split\n",
    "\n",
    "from collections import defaultdict\n",
    "\n",
    "\n",
    "X, y = sklearn.datasets.load_digits(return_X_y=True)\n",
    "\n",
    "def reconstruction_error(estimator, X, y=None):\n",
    "    return norm(X - estimator.inverse_transform(estimator.transform(X))) / len(X)\n",
    "\n",
    "estimator = sklearn.decomposition.PCA()\n",
    "\n",
    "def group_from_y(X, y):\n",
    "    return y\n",
    "\n",
    "def group_from_function(X, y, f):\n",
    "    return f(X, y)\n",
    "\n",
    "def split(X, y, groups=None):\n",
    "    \n",
    "    Xs = defaultdict(list)\n",
    "    ys = defaultdict(list)\n",
    "    \n",
    "    for i in range(len(X)):\n",
    "        Xs[groups[i]].append(X[i])\n",
    "        ys[groups[i]].append(y[i])\n",
    "        \n",
    "    return [np.array(Xi) for Xi in Xs.values()], [np.array(yi) for yi in ys.values()]\n",
    "    \n",
    "Xs, ys = split(X, group_from_y(y))\n",
    "\n",
    "d = 8\n",
    "\n",
    "\n",
    "\n",
    "estimators = [sklearn.decomposition.PCA(d).fit(Xi) for Xi in Xs]\n",
    "\n",
    "import matplotlib.pyplot as plt\n",
    "\n",
    "plt.imshow(np.array([[reconstruction_error(estimators[i], Xs[j]) for i in range(9)] for j in range(9)]))\n"
   ]
  },
  {
   "cell_type": "code",
   "execution_count": null,
   "id": "f6290c9b-cddc-406d-9d27-186c00f5afcf",
   "metadata": {},
   "outputs": [],
   "source": []
  }
 ],
 "metadata": {
  "kernelspec": {
   "display_name": "Python 3 (ipykernel)",
   "language": "python",
   "name": "python3"
  },
  "language_info": {
   "codemirror_mode": {
    "name": "ipython",
    "version": 3
   },
   "file_extension": ".py",
   "mimetype": "text/x-python",
   "name": "python",
   "nbconvert_exporter": "python",
   "pygments_lexer": "ipython3",
   "version": "3.10.6"
  }
 },
 "nbformat": 4,
 "nbformat_minor": 5
}
